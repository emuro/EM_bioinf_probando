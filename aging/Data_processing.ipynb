{
 "cells": [
  {
   "cell_type": "markdown",
   "metadata": {
    "tags": []
   },
   "source": [
    "# Data preprocessing"
   ]
  },
  {
   "cell_type": "code",
   "execution_count": 2,
   "metadata": {},
   "outputs": [],
   "source": [
    "import pandas as pd\n",
    "import numpy as np\n",
    "import matplotlib.pyplot as plt\n",
    "import scanpy as sc\n",
    "import scanpy.external as sce\n",
    "from scipy.sparse import csr_matrix\n",
    "import os\n",
    "import anndata\n",
    "import warnings\n",
    "import sys\n",
    "# sys.path.append('/home/olga/prog/scoreCT/scorect/')\n",
    "# import scorect_api as ct\n",
    "warnings.filterwarnings('ignore')"
   ]
  },
  {
   "cell_type": "code",
   "execution_count": 3,
   "metadata": {},
   "outputs": [],
   "source": [
    "path2tms = '../data/TMS/'"
   ]
  },
  {
   "cell_type": "markdown",
   "metadata": {},
   "source": [
    "## Function: clean gene annotations"
   ]
  },
  {
   "cell_type": "code",
   "execution_count": 4,
   "metadata": {},
   "outputs": [],
   "source": [
    "def clean_annotations(df):\n",
    "    \n",
    "    # Some gene names have flanking characters, remove them\n",
    "    df.loc[:, 'Gene name'] = [str(g).strip('\\t\\n ') for g in df.loc[:, 'Gene name']]\n",
    "    \n",
    "    # More than one transcript per gene, get unique genes\n",
    "    unique_genes = list(set(df.loc[:, 'Gene name']))\n",
    "    \n",
    "    # Remove nans if there are any (from df and from unique_genes)\n",
    "    df = df[df.loc[:, 'Gene name'] != 'nan']\n",
    "    unique_genes = [gene for gene in unique_genes if gene != 'nan']\n",
    "    \n",
    "    # Output dataframe: gene_annot\n",
    "    gene_annot = pd.DataFrame(index=unique_genes)\n",
    "    df.loc[:, 'gene_length'] = df.loc[:, 'Gene end (bp)'] - df.loc[:, 'Gene start (bp)']\n",
    "    df.rename(columns={'Transcript length (including UTRs and CDS)': 'transcript_length'}, inplace=True)\n",
    "    df = df.loc[:, ['Gene name', 'gene_length', 'transcript_length']]\n",
    "    \n",
    "    # Get min, max and mean transcript length associated with each gene\n",
    "    min_length = df.loc[:, ['Gene name', 'transcript_length']].groupby(['Gene name']).min()\n",
    "    max_length = df.loc[:, ['Gene name', 'transcript_length']].groupby(['Gene name']).max()\n",
    "    mean_length = df.loc[:, ['Gene name', 'transcript_length']].groupby(['Gene name']).mean()\n",
    "    \n",
    "    # min_length.sort_index(inplace=True)\n",
    "    \n",
    "    gene_annot.loc[:, 'min_transcript_length'] = min_length\n",
    "    gene_annot.loc[:, 'max_transcript_length'] = max_length\n",
    "    gene_annot.loc[:, 'mean_transcript_length'] = mean_length\n",
    "    \n",
    "    # Add gene length annotations\n",
    "    gene_annot.loc[:, 'gene_length'] = df.drop_duplicates('Gene name').set_index('Gene name').loc[gene_annot.index, 'gene_length']\n",
    "    return gene_annot"
   ]
  },
  {
   "cell_type": "code",
   "execution_count": 5,
   "metadata": {},
   "outputs": [
    {
     "ename": "FileNotFoundError",
     "evalue": "[Errno 2] No such file or directory: '../../new_data/mart_export_mouse.txt'",
     "output_type": "error",
     "traceback": [
      "\u001b[0;31m---------------------------------------------------------------------------\u001b[0m",
      "\u001b[0;31mFileNotFoundError\u001b[0m                         Traceback (most recent call last)",
      "Cell \u001b[0;32mIn[5], line 1\u001b[0m\n\u001b[0;32m----> 1\u001b[0m genes_mouse \u001b[38;5;241m=\u001b[39m \u001b[43mpd\u001b[49m\u001b[38;5;241;43m.\u001b[39;49m\u001b[43mread_csv\u001b[49m\u001b[43m(\u001b[49m\u001b[38;5;124;43m'\u001b[39;49m\u001b[38;5;124;43m../../new_data/mart_export_mouse.txt\u001b[39;49m\u001b[38;5;124;43m'\u001b[39;49m\u001b[43m,\u001b[49m\u001b[43m \u001b[49m\u001b[43msep\u001b[49m\u001b[38;5;241;43m=\u001b[39;49m\u001b[38;5;124;43m'\u001b[39;49m\u001b[38;5;130;43;01m\\t\u001b[39;49;00m\u001b[38;5;124;43m'\u001b[39;49m\u001b[43m,\u001b[49m\u001b[43m \u001b[49m\u001b[43mindex_col\u001b[49m\u001b[38;5;241;43m=\u001b[39;49m\u001b[38;5;241;43m0\u001b[39;49m\u001b[43m)\u001b[49m\n\u001b[1;32m      2\u001b[0m genes_human \u001b[38;5;241m=\u001b[39m pd\u001b[38;5;241m.\u001b[39mread_csv(\u001b[38;5;124m'\u001b[39m\u001b[38;5;124m../../new_data/mart_export_human.txt\u001b[39m\u001b[38;5;124m'\u001b[39m, sep\u001b[38;5;241m=\u001b[39m\u001b[38;5;124m'\u001b[39m\u001b[38;5;130;01m\\t\u001b[39;00m\u001b[38;5;124m'\u001b[39m, index_col\u001b[38;5;241m=\u001b[39m\u001b[38;5;241m0\u001b[39m)\n",
      "File \u001b[0;32m~/.local/lib/python3.10/site-packages/pandas/io/parsers/readers.py:1026\u001b[0m, in \u001b[0;36mread_csv\u001b[0;34m(filepath_or_buffer, sep, delimiter, header, names, index_col, usecols, dtype, engine, converters, true_values, false_values, skipinitialspace, skiprows, skipfooter, nrows, na_values, keep_default_na, na_filter, verbose, skip_blank_lines, parse_dates, infer_datetime_format, keep_date_col, date_parser, date_format, dayfirst, cache_dates, iterator, chunksize, compression, thousands, decimal, lineterminator, quotechar, quoting, doublequote, escapechar, comment, encoding, encoding_errors, dialect, on_bad_lines, delim_whitespace, low_memory, memory_map, float_precision, storage_options, dtype_backend)\u001b[0m\n\u001b[1;32m   1013\u001b[0m kwds_defaults \u001b[38;5;241m=\u001b[39m _refine_defaults_read(\n\u001b[1;32m   1014\u001b[0m     dialect,\n\u001b[1;32m   1015\u001b[0m     delimiter,\n\u001b[0;32m   (...)\u001b[0m\n\u001b[1;32m   1022\u001b[0m     dtype_backend\u001b[38;5;241m=\u001b[39mdtype_backend,\n\u001b[1;32m   1023\u001b[0m )\n\u001b[1;32m   1024\u001b[0m kwds\u001b[38;5;241m.\u001b[39mupdate(kwds_defaults)\n\u001b[0;32m-> 1026\u001b[0m \u001b[38;5;28;01mreturn\u001b[39;00m \u001b[43m_read\u001b[49m\u001b[43m(\u001b[49m\u001b[43mfilepath_or_buffer\u001b[49m\u001b[43m,\u001b[49m\u001b[43m \u001b[49m\u001b[43mkwds\u001b[49m\u001b[43m)\u001b[49m\n",
      "File \u001b[0;32m~/.local/lib/python3.10/site-packages/pandas/io/parsers/readers.py:620\u001b[0m, in \u001b[0;36m_read\u001b[0;34m(filepath_or_buffer, kwds)\u001b[0m\n\u001b[1;32m    617\u001b[0m _validate_names(kwds\u001b[38;5;241m.\u001b[39mget(\u001b[38;5;124m\"\u001b[39m\u001b[38;5;124mnames\u001b[39m\u001b[38;5;124m\"\u001b[39m, \u001b[38;5;28;01mNone\u001b[39;00m))\n\u001b[1;32m    619\u001b[0m \u001b[38;5;66;03m# Create the parser.\u001b[39;00m\n\u001b[0;32m--> 620\u001b[0m parser \u001b[38;5;241m=\u001b[39m \u001b[43mTextFileReader\u001b[49m\u001b[43m(\u001b[49m\u001b[43mfilepath_or_buffer\u001b[49m\u001b[43m,\u001b[49m\u001b[43m \u001b[49m\u001b[38;5;241;43m*\u001b[39;49m\u001b[38;5;241;43m*\u001b[39;49m\u001b[43mkwds\u001b[49m\u001b[43m)\u001b[49m\n\u001b[1;32m    622\u001b[0m \u001b[38;5;28;01mif\u001b[39;00m chunksize \u001b[38;5;129;01mor\u001b[39;00m iterator:\n\u001b[1;32m    623\u001b[0m     \u001b[38;5;28;01mreturn\u001b[39;00m parser\n",
      "File \u001b[0;32m~/.local/lib/python3.10/site-packages/pandas/io/parsers/readers.py:1620\u001b[0m, in \u001b[0;36mTextFileReader.__init__\u001b[0;34m(self, f, engine, **kwds)\u001b[0m\n\u001b[1;32m   1617\u001b[0m     \u001b[38;5;28mself\u001b[39m\u001b[38;5;241m.\u001b[39moptions[\u001b[38;5;124m\"\u001b[39m\u001b[38;5;124mhas_index_names\u001b[39m\u001b[38;5;124m\"\u001b[39m] \u001b[38;5;241m=\u001b[39m kwds[\u001b[38;5;124m\"\u001b[39m\u001b[38;5;124mhas_index_names\u001b[39m\u001b[38;5;124m\"\u001b[39m]\n\u001b[1;32m   1619\u001b[0m \u001b[38;5;28mself\u001b[39m\u001b[38;5;241m.\u001b[39mhandles: IOHandles \u001b[38;5;241m|\u001b[39m \u001b[38;5;28;01mNone\u001b[39;00m \u001b[38;5;241m=\u001b[39m \u001b[38;5;28;01mNone\u001b[39;00m\n\u001b[0;32m-> 1620\u001b[0m \u001b[38;5;28mself\u001b[39m\u001b[38;5;241m.\u001b[39m_engine \u001b[38;5;241m=\u001b[39m \u001b[38;5;28;43mself\u001b[39;49m\u001b[38;5;241;43m.\u001b[39;49m\u001b[43m_make_engine\u001b[49m\u001b[43m(\u001b[49m\u001b[43mf\u001b[49m\u001b[43m,\u001b[49m\u001b[43m \u001b[49m\u001b[38;5;28;43mself\u001b[39;49m\u001b[38;5;241;43m.\u001b[39;49m\u001b[43mengine\u001b[49m\u001b[43m)\u001b[49m\n",
      "File \u001b[0;32m~/.local/lib/python3.10/site-packages/pandas/io/parsers/readers.py:1880\u001b[0m, in \u001b[0;36mTextFileReader._make_engine\u001b[0;34m(self, f, engine)\u001b[0m\n\u001b[1;32m   1878\u001b[0m     \u001b[38;5;28;01mif\u001b[39;00m \u001b[38;5;124m\"\u001b[39m\u001b[38;5;124mb\u001b[39m\u001b[38;5;124m\"\u001b[39m \u001b[38;5;129;01mnot\u001b[39;00m \u001b[38;5;129;01min\u001b[39;00m mode:\n\u001b[1;32m   1879\u001b[0m         mode \u001b[38;5;241m+\u001b[39m\u001b[38;5;241m=\u001b[39m \u001b[38;5;124m\"\u001b[39m\u001b[38;5;124mb\u001b[39m\u001b[38;5;124m\"\u001b[39m\n\u001b[0;32m-> 1880\u001b[0m \u001b[38;5;28mself\u001b[39m\u001b[38;5;241m.\u001b[39mhandles \u001b[38;5;241m=\u001b[39m \u001b[43mget_handle\u001b[49m\u001b[43m(\u001b[49m\n\u001b[1;32m   1881\u001b[0m \u001b[43m    \u001b[49m\u001b[43mf\u001b[49m\u001b[43m,\u001b[49m\n\u001b[1;32m   1882\u001b[0m \u001b[43m    \u001b[49m\u001b[43mmode\u001b[49m\u001b[43m,\u001b[49m\n\u001b[1;32m   1883\u001b[0m \u001b[43m    \u001b[49m\u001b[43mencoding\u001b[49m\u001b[38;5;241;43m=\u001b[39;49m\u001b[38;5;28;43mself\u001b[39;49m\u001b[38;5;241;43m.\u001b[39;49m\u001b[43moptions\u001b[49m\u001b[38;5;241;43m.\u001b[39;49m\u001b[43mget\u001b[49m\u001b[43m(\u001b[49m\u001b[38;5;124;43m\"\u001b[39;49m\u001b[38;5;124;43mencoding\u001b[39;49m\u001b[38;5;124;43m\"\u001b[39;49m\u001b[43m,\u001b[49m\u001b[43m \u001b[49m\u001b[38;5;28;43;01mNone\u001b[39;49;00m\u001b[43m)\u001b[49m\u001b[43m,\u001b[49m\n\u001b[1;32m   1884\u001b[0m \u001b[43m    \u001b[49m\u001b[43mcompression\u001b[49m\u001b[38;5;241;43m=\u001b[39;49m\u001b[38;5;28;43mself\u001b[39;49m\u001b[38;5;241;43m.\u001b[39;49m\u001b[43moptions\u001b[49m\u001b[38;5;241;43m.\u001b[39;49m\u001b[43mget\u001b[49m\u001b[43m(\u001b[49m\u001b[38;5;124;43m\"\u001b[39;49m\u001b[38;5;124;43mcompression\u001b[39;49m\u001b[38;5;124;43m\"\u001b[39;49m\u001b[43m,\u001b[49m\u001b[43m \u001b[49m\u001b[38;5;28;43;01mNone\u001b[39;49;00m\u001b[43m)\u001b[49m\u001b[43m,\u001b[49m\n\u001b[1;32m   1885\u001b[0m \u001b[43m    \u001b[49m\u001b[43mmemory_map\u001b[49m\u001b[38;5;241;43m=\u001b[39;49m\u001b[38;5;28;43mself\u001b[39;49m\u001b[38;5;241;43m.\u001b[39;49m\u001b[43moptions\u001b[49m\u001b[38;5;241;43m.\u001b[39;49m\u001b[43mget\u001b[49m\u001b[43m(\u001b[49m\u001b[38;5;124;43m\"\u001b[39;49m\u001b[38;5;124;43mmemory_map\u001b[39;49m\u001b[38;5;124;43m\"\u001b[39;49m\u001b[43m,\u001b[49m\u001b[43m \u001b[49m\u001b[38;5;28;43;01mFalse\u001b[39;49;00m\u001b[43m)\u001b[49m\u001b[43m,\u001b[49m\n\u001b[1;32m   1886\u001b[0m \u001b[43m    \u001b[49m\u001b[43mis_text\u001b[49m\u001b[38;5;241;43m=\u001b[39;49m\u001b[43mis_text\u001b[49m\u001b[43m,\u001b[49m\n\u001b[1;32m   1887\u001b[0m \u001b[43m    \u001b[49m\u001b[43merrors\u001b[49m\u001b[38;5;241;43m=\u001b[39;49m\u001b[38;5;28;43mself\u001b[39;49m\u001b[38;5;241;43m.\u001b[39;49m\u001b[43moptions\u001b[49m\u001b[38;5;241;43m.\u001b[39;49m\u001b[43mget\u001b[49m\u001b[43m(\u001b[49m\u001b[38;5;124;43m\"\u001b[39;49m\u001b[38;5;124;43mencoding_errors\u001b[39;49m\u001b[38;5;124;43m\"\u001b[39;49m\u001b[43m,\u001b[49m\u001b[43m \u001b[49m\u001b[38;5;124;43m\"\u001b[39;49m\u001b[38;5;124;43mstrict\u001b[39;49m\u001b[38;5;124;43m\"\u001b[39;49m\u001b[43m)\u001b[49m\u001b[43m,\u001b[49m\n\u001b[1;32m   1888\u001b[0m \u001b[43m    \u001b[49m\u001b[43mstorage_options\u001b[49m\u001b[38;5;241;43m=\u001b[39;49m\u001b[38;5;28;43mself\u001b[39;49m\u001b[38;5;241;43m.\u001b[39;49m\u001b[43moptions\u001b[49m\u001b[38;5;241;43m.\u001b[39;49m\u001b[43mget\u001b[49m\u001b[43m(\u001b[49m\u001b[38;5;124;43m\"\u001b[39;49m\u001b[38;5;124;43mstorage_options\u001b[39;49m\u001b[38;5;124;43m\"\u001b[39;49m\u001b[43m,\u001b[49m\u001b[43m \u001b[49m\u001b[38;5;28;43;01mNone\u001b[39;49;00m\u001b[43m)\u001b[49m\u001b[43m,\u001b[49m\n\u001b[1;32m   1889\u001b[0m \u001b[43m\u001b[49m\u001b[43m)\u001b[49m\n\u001b[1;32m   1890\u001b[0m \u001b[38;5;28;01massert\u001b[39;00m \u001b[38;5;28mself\u001b[39m\u001b[38;5;241m.\u001b[39mhandles \u001b[38;5;129;01mis\u001b[39;00m \u001b[38;5;129;01mnot\u001b[39;00m \u001b[38;5;28;01mNone\u001b[39;00m\n\u001b[1;32m   1891\u001b[0m f \u001b[38;5;241m=\u001b[39m \u001b[38;5;28mself\u001b[39m\u001b[38;5;241m.\u001b[39mhandles\u001b[38;5;241m.\u001b[39mhandle\n",
      "File \u001b[0;32m~/.local/lib/python3.10/site-packages/pandas/io/common.py:873\u001b[0m, in \u001b[0;36mget_handle\u001b[0;34m(path_or_buf, mode, encoding, compression, memory_map, is_text, errors, storage_options)\u001b[0m\n\u001b[1;32m    868\u001b[0m \u001b[38;5;28;01melif\u001b[39;00m \u001b[38;5;28misinstance\u001b[39m(handle, \u001b[38;5;28mstr\u001b[39m):\n\u001b[1;32m    869\u001b[0m     \u001b[38;5;66;03m# Check whether the filename is to be opened in binary mode.\u001b[39;00m\n\u001b[1;32m    870\u001b[0m     \u001b[38;5;66;03m# Binary mode does not support 'encoding' and 'newline'.\u001b[39;00m\n\u001b[1;32m    871\u001b[0m     \u001b[38;5;28;01mif\u001b[39;00m ioargs\u001b[38;5;241m.\u001b[39mencoding \u001b[38;5;129;01mand\u001b[39;00m \u001b[38;5;124m\"\u001b[39m\u001b[38;5;124mb\u001b[39m\u001b[38;5;124m\"\u001b[39m \u001b[38;5;129;01mnot\u001b[39;00m \u001b[38;5;129;01min\u001b[39;00m ioargs\u001b[38;5;241m.\u001b[39mmode:\n\u001b[1;32m    872\u001b[0m         \u001b[38;5;66;03m# Encoding\u001b[39;00m\n\u001b[0;32m--> 873\u001b[0m         handle \u001b[38;5;241m=\u001b[39m \u001b[38;5;28;43mopen\u001b[39;49m\u001b[43m(\u001b[49m\n\u001b[1;32m    874\u001b[0m \u001b[43m            \u001b[49m\u001b[43mhandle\u001b[49m\u001b[43m,\u001b[49m\n\u001b[1;32m    875\u001b[0m \u001b[43m            \u001b[49m\u001b[43mioargs\u001b[49m\u001b[38;5;241;43m.\u001b[39;49m\u001b[43mmode\u001b[49m\u001b[43m,\u001b[49m\n\u001b[1;32m    876\u001b[0m \u001b[43m            \u001b[49m\u001b[43mencoding\u001b[49m\u001b[38;5;241;43m=\u001b[39;49m\u001b[43mioargs\u001b[49m\u001b[38;5;241;43m.\u001b[39;49m\u001b[43mencoding\u001b[49m\u001b[43m,\u001b[49m\n\u001b[1;32m    877\u001b[0m \u001b[43m            \u001b[49m\u001b[43merrors\u001b[49m\u001b[38;5;241;43m=\u001b[39;49m\u001b[43merrors\u001b[49m\u001b[43m,\u001b[49m\n\u001b[1;32m    878\u001b[0m \u001b[43m            \u001b[49m\u001b[43mnewline\u001b[49m\u001b[38;5;241;43m=\u001b[39;49m\u001b[38;5;124;43m\"\u001b[39;49m\u001b[38;5;124;43m\"\u001b[39;49m\u001b[43m,\u001b[49m\n\u001b[1;32m    879\u001b[0m \u001b[43m        \u001b[49m\u001b[43m)\u001b[49m\n\u001b[1;32m    880\u001b[0m     \u001b[38;5;28;01melse\u001b[39;00m:\n\u001b[1;32m    881\u001b[0m         \u001b[38;5;66;03m# Binary mode\u001b[39;00m\n\u001b[1;32m    882\u001b[0m         handle \u001b[38;5;241m=\u001b[39m \u001b[38;5;28mopen\u001b[39m(handle, ioargs\u001b[38;5;241m.\u001b[39mmode)\n",
      "\u001b[0;31mFileNotFoundError\u001b[0m: [Errno 2] No such file or directory: '../../new_data/mart_export_mouse.txt'"
     ]
    }
   ],
   "source": [
    "genes_mouse = pd.read_csv('~/tmp/data/aging/mart_export_mouse.txt', sep='\\t', index_col=0)\n",
    "genes_human = pd.read_csv('~/tmp/data/aging/mart_export_human.txt', sep='\\t', index_col=0)"
   ]
  },
  {
   "cell_type": "code",
   "execution_count": 18,
   "metadata": {},
   "outputs": [
    {
     "data": {
      "text/html": [
       "<div>\n",
       "<style scoped>\n",
       "    .dataframe tbody tr th:only-of-type {\n",
       "        vertical-align: middle;\n",
       "    }\n",
       "\n",
       "    .dataframe tbody tr th {\n",
       "        vertical-align: top;\n",
       "    }\n",
       "\n",
       "    .dataframe thead th {\n",
       "        text-align: right;\n",
       "    }\n",
       "</style>\n",
       "<table border=\"1\" class=\"dataframe\">\n",
       "  <thead>\n",
       "    <tr style=\"text-align: right;\">\n",
       "      <th></th>\n",
       "      <th>Gene stable ID version</th>\n",
       "      <th>Transcript stable ID</th>\n",
       "      <th>Transcript stable ID version</th>\n",
       "      <th>Chromosome/scaffold name</th>\n",
       "      <th>Strand</th>\n",
       "      <th>Gene end (bp)</th>\n",
       "      <th>Gene start (bp)</th>\n",
       "      <th>Transcript start (bp)</th>\n",
       "      <th>Transcript end (bp)</th>\n",
       "      <th>Transcription start site (TSS)</th>\n",
       "      <th>Transcript length (including UTRs and CDS)</th>\n",
       "      <th>Gene name</th>\n",
       "      <th>Gene % GC content</th>\n",
       "    </tr>\n",
       "    <tr>\n",
       "      <th>Gene stable ID</th>\n",
       "      <th></th>\n",
       "      <th></th>\n",
       "      <th></th>\n",
       "      <th></th>\n",
       "      <th></th>\n",
       "      <th></th>\n",
       "      <th></th>\n",
       "      <th></th>\n",
       "      <th></th>\n",
       "      <th></th>\n",
       "      <th></th>\n",
       "      <th></th>\n",
       "      <th></th>\n",
       "    </tr>\n",
       "  </thead>\n",
       "  <tbody>\n",
       "    <tr>\n",
       "      <th>ENSMUSG00000064336</th>\n",
       "      <td>ENSMUSG00000064336.1</td>\n",
       "      <td>ENSMUST00000082387</td>\n",
       "      <td>ENSMUST00000082387.1</td>\n",
       "      <td>MT</td>\n",
       "      <td>1</td>\n",
       "      <td>68</td>\n",
       "      <td>1</td>\n",
       "      <td>1</td>\n",
       "      <td>68</td>\n",
       "      <td>1</td>\n",
       "      <td>68</td>\n",
       "      <td>mt-Tf</td>\n",
       "      <td>30.88</td>\n",
       "    </tr>\n",
       "    <tr>\n",
       "      <th>ENSMUSG00000064337</th>\n",
       "      <td>ENSMUSG00000064337.1</td>\n",
       "      <td>ENSMUST00000082388</td>\n",
       "      <td>ENSMUST00000082388.1</td>\n",
       "      <td>MT</td>\n",
       "      <td>1</td>\n",
       "      <td>1024</td>\n",
       "      <td>70</td>\n",
       "      <td>70</td>\n",
       "      <td>1024</td>\n",
       "      <td>70</td>\n",
       "      <td>955</td>\n",
       "      <td>mt-Rnr1</td>\n",
       "      <td>35.81</td>\n",
       "    </tr>\n",
       "    <tr>\n",
       "      <th>ENSMUSG00000064338</th>\n",
       "      <td>ENSMUSG00000064338.1</td>\n",
       "      <td>ENSMUST00000082389</td>\n",
       "      <td>ENSMUST00000082389.1</td>\n",
       "      <td>MT</td>\n",
       "      <td>1</td>\n",
       "      <td>1093</td>\n",
       "      <td>1025</td>\n",
       "      <td>1025</td>\n",
       "      <td>1093</td>\n",
       "      <td>1025</td>\n",
       "      <td>69</td>\n",
       "      <td>mt-Tv</td>\n",
       "      <td>39.13</td>\n",
       "    </tr>\n",
       "    <tr>\n",
       "      <th>ENSMUSG00000064339</th>\n",
       "      <td>ENSMUSG00000064339.1</td>\n",
       "      <td>ENSMUST00000082390</td>\n",
       "      <td>ENSMUST00000082390.1</td>\n",
       "      <td>MT</td>\n",
       "      <td>1</td>\n",
       "      <td>2675</td>\n",
       "      <td>1094</td>\n",
       "      <td>1094</td>\n",
       "      <td>2675</td>\n",
       "      <td>1094</td>\n",
       "      <td>1582</td>\n",
       "      <td>mt-Rnr2</td>\n",
       "      <td>35.40</td>\n",
       "    </tr>\n",
       "    <tr>\n",
       "      <th>ENSMUSG00000064340</th>\n",
       "      <td>ENSMUSG00000064340.1</td>\n",
       "      <td>ENSMUST00000082391</td>\n",
       "      <td>ENSMUST00000082391.1</td>\n",
       "      <td>MT</td>\n",
       "      <td>1</td>\n",
       "      <td>2750</td>\n",
       "      <td>2676</td>\n",
       "      <td>2676</td>\n",
       "      <td>2750</td>\n",
       "      <td>2676</td>\n",
       "      <td>75</td>\n",
       "      <td>mt-Tl1</td>\n",
       "      <td>44.00</td>\n",
       "    </tr>\n",
       "    <tr>\n",
       "      <th>...</th>\n",
       "      <td>...</td>\n",
       "      <td>...</td>\n",
       "      <td>...</td>\n",
       "      <td>...</td>\n",
       "      <td>...</td>\n",
       "      <td>...</td>\n",
       "      <td>...</td>\n",
       "      <td>...</td>\n",
       "      <td>...</td>\n",
       "      <td>...</td>\n",
       "      <td>...</td>\n",
       "      <td>...</td>\n",
       "      <td>...</td>\n",
       "    </tr>\n",
       "    <tr>\n",
       "      <th>ENSMUSG00000119806</th>\n",
       "      <td>ENSMUSG00000119806.1</td>\n",
       "      <td>ENSMUST00000240095</td>\n",
       "      <td>ENSMUST00000240095.1</td>\n",
       "      <td>2</td>\n",
       "      <td>1</td>\n",
       "      <td>151142999</td>\n",
       "      <td>151142864</td>\n",
       "      <td>151142864</td>\n",
       "      <td>151142999</td>\n",
       "      <td>151142864</td>\n",
       "      <td>136</td>\n",
       "      <td>Gm24077</td>\n",
       "      <td>44.12</td>\n",
       "    </tr>\n",
       "    <tr>\n",
       "      <th>ENSMUSG00000087609</th>\n",
       "      <td>ENSMUSG00000087609.2</td>\n",
       "      <td>ENSMUST00000129286</td>\n",
       "      <td>ENSMUST00000129286.2</td>\n",
       "      <td>2</td>\n",
       "      <td>1</td>\n",
       "      <td>151158167</td>\n",
       "      <td>151143894</td>\n",
       "      <td>151143894</td>\n",
       "      <td>151156640</td>\n",
       "      <td>151143894</td>\n",
       "      <td>542</td>\n",
       "      <td>4930442J19Rik</td>\n",
       "      <td>40.05</td>\n",
       "    </tr>\n",
       "    <tr>\n",
       "      <th>ENSMUSG00000087609</th>\n",
       "      <td>ENSMUSG00000087609.2</td>\n",
       "      <td>ENSMUST00000157058</td>\n",
       "      <td>ENSMUST00000157058.2</td>\n",
       "      <td>2</td>\n",
       "      <td>1</td>\n",
       "      <td>151158167</td>\n",
       "      <td>151143894</td>\n",
       "      <td>151143948</td>\n",
       "      <td>151158167</td>\n",
       "      <td>151143948</td>\n",
       "      <td>1721</td>\n",
       "      <td>4930442J19Rik</td>\n",
       "      <td>40.05</td>\n",
       "    </tr>\n",
       "    <tr>\n",
       "      <th>ENSMUSG00000119525</th>\n",
       "      <td>ENSMUSG00000119525.1</td>\n",
       "      <td>ENSMUST00000240296</td>\n",
       "      <td>ENSMUST00000240296.1</td>\n",
       "      <td>2</td>\n",
       "      <td>-1</td>\n",
       "      <td>151214418</td>\n",
       "      <td>151214283</td>\n",
       "      <td>151214283</td>\n",
       "      <td>151214418</td>\n",
       "      <td>151214418</td>\n",
       "      <td>136</td>\n",
       "      <td>Gm23261</td>\n",
       "      <td>45.59</td>\n",
       "    </tr>\n",
       "    <tr>\n",
       "      <th>ENSMUSG00000083391</th>\n",
       "      <td>ENSMUSG00000083391.3</td>\n",
       "      <td>ENSMUST00000122433</td>\n",
       "      <td>ENSMUST00000122433.3</td>\n",
       "      <td>2</td>\n",
       "      <td>1</td>\n",
       "      <td>151216967</td>\n",
       "      <td>151215928</td>\n",
       "      <td>151215928</td>\n",
       "      <td>151216967</td>\n",
       "      <td>151215928</td>\n",
       "      <td>1008</td>\n",
       "      <td>Gm14148</td>\n",
       "      <td>53.75</td>\n",
       "    </tr>\n",
       "  </tbody>\n",
       "</table>\n",
       "<p>149443 rows × 13 columns</p>\n",
       "</div>"
      ],
      "text/plain": [
       "                   Gene stable ID version Transcript stable ID  \\\n",
       "Gene stable ID                                                   \n",
       "ENSMUSG00000064336   ENSMUSG00000064336.1   ENSMUST00000082387   \n",
       "ENSMUSG00000064337   ENSMUSG00000064337.1   ENSMUST00000082388   \n",
       "ENSMUSG00000064338   ENSMUSG00000064338.1   ENSMUST00000082389   \n",
       "ENSMUSG00000064339   ENSMUSG00000064339.1   ENSMUST00000082390   \n",
       "ENSMUSG00000064340   ENSMUSG00000064340.1   ENSMUST00000082391   \n",
       "...                                   ...                  ...   \n",
       "ENSMUSG00000119806   ENSMUSG00000119806.1   ENSMUST00000240095   \n",
       "ENSMUSG00000087609   ENSMUSG00000087609.2   ENSMUST00000129286   \n",
       "ENSMUSG00000087609   ENSMUSG00000087609.2   ENSMUST00000157058   \n",
       "ENSMUSG00000119525   ENSMUSG00000119525.1   ENSMUST00000240296   \n",
       "ENSMUSG00000083391   ENSMUSG00000083391.3   ENSMUST00000122433   \n",
       "\n",
       "                   Transcript stable ID version Chromosome/scaffold name  \\\n",
       "Gene stable ID                                                             \n",
       "ENSMUSG00000064336         ENSMUST00000082387.1                       MT   \n",
       "ENSMUSG00000064337         ENSMUST00000082388.1                       MT   \n",
       "ENSMUSG00000064338         ENSMUST00000082389.1                       MT   \n",
       "ENSMUSG00000064339         ENSMUST00000082390.1                       MT   \n",
       "ENSMUSG00000064340         ENSMUST00000082391.1                       MT   \n",
       "...                                         ...                      ...   \n",
       "ENSMUSG00000119806         ENSMUST00000240095.1                        2   \n",
       "ENSMUSG00000087609         ENSMUST00000129286.2                        2   \n",
       "ENSMUSG00000087609         ENSMUST00000157058.2                        2   \n",
       "ENSMUSG00000119525         ENSMUST00000240296.1                        2   \n",
       "ENSMUSG00000083391         ENSMUST00000122433.3                        2   \n",
       "\n",
       "                    Strand  Gene end (bp)  Gene start (bp)  \\\n",
       "Gene stable ID                                               \n",
       "ENSMUSG00000064336       1             68                1   \n",
       "ENSMUSG00000064337       1           1024               70   \n",
       "ENSMUSG00000064338       1           1093             1025   \n",
       "ENSMUSG00000064339       1           2675             1094   \n",
       "ENSMUSG00000064340       1           2750             2676   \n",
       "...                    ...            ...              ...   \n",
       "ENSMUSG00000119806       1      151142999        151142864   \n",
       "ENSMUSG00000087609       1      151158167        151143894   \n",
       "ENSMUSG00000087609       1      151158167        151143894   \n",
       "ENSMUSG00000119525      -1      151214418        151214283   \n",
       "ENSMUSG00000083391       1      151216967        151215928   \n",
       "\n",
       "                    Transcript start (bp)  Transcript end (bp)  \\\n",
       "Gene stable ID                                                   \n",
       "ENSMUSG00000064336                      1                   68   \n",
       "ENSMUSG00000064337                     70                 1024   \n",
       "ENSMUSG00000064338                   1025                 1093   \n",
       "ENSMUSG00000064339                   1094                 2675   \n",
       "ENSMUSG00000064340                   2676                 2750   \n",
       "...                                   ...                  ...   \n",
       "ENSMUSG00000119806              151142864            151142999   \n",
       "ENSMUSG00000087609              151143894            151156640   \n",
       "ENSMUSG00000087609              151143948            151158167   \n",
       "ENSMUSG00000119525              151214283            151214418   \n",
       "ENSMUSG00000083391              151215928            151216967   \n",
       "\n",
       "                    Transcription start site (TSS)  \\\n",
       "Gene stable ID                                       \n",
       "ENSMUSG00000064336                               1   \n",
       "ENSMUSG00000064337                              70   \n",
       "ENSMUSG00000064338                            1025   \n",
       "ENSMUSG00000064339                            1094   \n",
       "ENSMUSG00000064340                            2676   \n",
       "...                                            ...   \n",
       "ENSMUSG00000119806                       151142864   \n",
       "ENSMUSG00000087609                       151143894   \n",
       "ENSMUSG00000087609                       151143948   \n",
       "ENSMUSG00000119525                       151214418   \n",
       "ENSMUSG00000083391                       151215928   \n",
       "\n",
       "                    Transcript length (including UTRs and CDS)      Gene name  \\\n",
       "Gene stable ID                                                                  \n",
       "ENSMUSG00000064336                                          68          mt-Tf   \n",
       "ENSMUSG00000064337                                         955        mt-Rnr1   \n",
       "ENSMUSG00000064338                                          69          mt-Tv   \n",
       "ENSMUSG00000064339                                        1582        mt-Rnr2   \n",
       "ENSMUSG00000064340                                          75         mt-Tl1   \n",
       "...                                                        ...            ...   \n",
       "ENSMUSG00000119806                                         136        Gm24077   \n",
       "ENSMUSG00000087609                                         542  4930442J19Rik   \n",
       "ENSMUSG00000087609                                        1721  4930442J19Rik   \n",
       "ENSMUSG00000119525                                         136        Gm23261   \n",
       "ENSMUSG00000083391                                        1008        Gm14148   \n",
       "\n",
       "                    Gene % GC content  \n",
       "Gene stable ID                         \n",
       "ENSMUSG00000064336              30.88  \n",
       "ENSMUSG00000064337              35.81  \n",
       "ENSMUSG00000064338              39.13  \n",
       "ENSMUSG00000064339              35.40  \n",
       "ENSMUSG00000064340              44.00  \n",
       "...                               ...  \n",
       "ENSMUSG00000119806              44.12  \n",
       "ENSMUSG00000087609              40.05  \n",
       "ENSMUSG00000087609              40.05  \n",
       "ENSMUSG00000119525              45.59  \n",
       "ENSMUSG00000083391              53.75  \n",
       "\n",
       "[149443 rows x 13 columns]"
      ]
     },
     "execution_count": 18,
     "metadata": {},
     "output_type": "execute_result"
    }
   ],
   "source": [
    "genes_mouse"
   ]
  },
  {
   "cell_type": "code",
   "execution_count": 19,
   "metadata": {},
   "outputs": [],
   "source": [
    "gene_annot_mouse = clean_annotations(genes_mouse)\n",
    "gene_annot_human = clean_annotations(genes_human)"
   ]
  },
  {
   "cell_type": "code",
   "execution_count": 20,
   "metadata": {},
   "outputs": [
    {
     "data": {
      "text/html": [
       "<div>\n",
       "<style scoped>\n",
       "    .dataframe tbody tr th:only-of-type {\n",
       "        vertical-align: middle;\n",
       "    }\n",
       "\n",
       "    .dataframe tbody tr th {\n",
       "        vertical-align: top;\n",
       "    }\n",
       "\n",
       "    .dataframe thead th {\n",
       "        text-align: right;\n",
       "    }\n",
       "</style>\n",
       "<table border=\"1\" class=\"dataframe\">\n",
       "  <thead>\n",
       "    <tr style=\"text-align: right;\">\n",
       "      <th></th>\n",
       "      <th>min_transcript_length</th>\n",
       "      <th>max_transcript_length</th>\n",
       "      <th>mean_transcript_length</th>\n",
       "      <th>gene_length</th>\n",
       "    </tr>\n",
       "  </thead>\n",
       "  <tbody>\n",
       "    <tr>\n",
       "      <th>Mx1</th>\n",
       "      <td>352</td>\n",
       "      <td>2967</td>\n",
       "      <td>1796.3</td>\n",
       "      <td>15872</td>\n",
       "    </tr>\n",
       "    <tr>\n",
       "      <th>Gm3605</th>\n",
       "      <td>440</td>\n",
       "      <td>440</td>\n",
       "      <td>440.0</td>\n",
       "      <td>439</td>\n",
       "    </tr>\n",
       "    <tr>\n",
       "      <th>Gemin4</th>\n",
       "      <td>234</td>\n",
       "      <td>3540</td>\n",
       "      <td>1887.0</td>\n",
       "      <td>7093</td>\n",
       "    </tr>\n",
       "  </tbody>\n",
       "</table>\n",
       "</div>"
      ],
      "text/plain": [
       "        min_transcript_length  max_transcript_length  mean_transcript_length  \\\n",
       "Mx1                       352                   2967                  1796.3   \n",
       "Gm3605                    440                    440                   440.0   \n",
       "Gemin4                    234                   3540                  1887.0   \n",
       "\n",
       "        gene_length  \n",
       "Mx1           15872  \n",
       "Gm3605          439  \n",
       "Gemin4         7093  "
      ]
     },
     "execution_count": 20,
     "metadata": {},
     "output_type": "execute_result"
    }
   ],
   "source": [
    "gene_annot_mouse.head(3)"
   ]
  },
  {
   "cell_type": "code",
   "execution_count": 21,
   "metadata": {},
   "outputs": [
    {
     "data": {
      "text/html": [
       "<div>\n",
       "<style scoped>\n",
       "    .dataframe tbody tr th:only-of-type {\n",
       "        vertical-align: middle;\n",
       "    }\n",
       "\n",
       "    .dataframe tbody tr th {\n",
       "        vertical-align: top;\n",
       "    }\n",
       "\n",
       "    .dataframe thead th {\n",
       "        text-align: right;\n",
       "    }\n",
       "</style>\n",
       "<table border=\"1\" class=\"dataframe\">\n",
       "  <thead>\n",
       "    <tr style=\"text-align: right;\">\n",
       "      <th></th>\n",
       "      <th>min_transcript_length</th>\n",
       "      <th>max_transcript_length</th>\n",
       "      <th>mean_transcript_length</th>\n",
       "      <th>gene_length</th>\n",
       "    </tr>\n",
       "  </thead>\n",
       "  <tbody>\n",
       "    <tr>\n",
       "      <th>KLF14</th>\n",
       "      <td>3511</td>\n",
       "      <td>3511</td>\n",
       "      <td>3511.000000</td>\n",
       "      <td>3510</td>\n",
       "    </tr>\n",
       "    <tr>\n",
       "      <th>RWDD2B</th>\n",
       "      <td>571</td>\n",
       "      <td>3065</td>\n",
       "      <td>1518.428571</td>\n",
       "      <td>14976</td>\n",
       "    </tr>\n",
       "    <tr>\n",
       "      <th>HMGN1P20</th>\n",
       "      <td>300</td>\n",
       "      <td>300</td>\n",
       "      <td>300.000000</td>\n",
       "      <td>299</td>\n",
       "    </tr>\n",
       "  </tbody>\n",
       "</table>\n",
       "</div>"
      ],
      "text/plain": [
       "          min_transcript_length  max_transcript_length  \\\n",
       "KLF14                      3511                   3511   \n",
       "RWDD2B                      571                   3065   \n",
       "HMGN1P20                    300                    300   \n",
       "\n",
       "          mean_transcript_length  gene_length  \n",
       "KLF14                3511.000000         3510  \n",
       "RWDD2B               1518.428571        14976  \n",
       "HMGN1P20              300.000000          299  "
      ]
     },
     "execution_count": 21,
     "metadata": {},
     "output_type": "execute_result"
    }
   ],
   "source": [
    "gene_annot_human.head(3)"
   ]
  },
  {
   "cell_type": "markdown",
   "metadata": {},
   "source": [
    "## Check that we did not mess up"
   ]
  },
  {
   "cell_type": "markdown",
   "metadata": {},
   "source": [
    "### Mouse"
   ]
  },
  {
   "cell_type": "code",
   "execution_count": 23,
   "metadata": {},
   "outputs": [],
   "source": [
    "example1 = genes_mouse[genes_mouse.loc[:, 'Gene name'] == 'Il36rn']['Transcript length (including UTRs and CDS)']"
   ]
  },
  {
   "cell_type": "code",
   "execution_count": 24,
   "metadata": {},
   "outputs": [],
   "source": [
    "end = genes_mouse[genes_mouse.loc[:, 'Gene name'] == 'Il36rn']['Gene end (bp)'][0]\n",
    "start = genes_mouse[genes_mouse.loc[:, 'Gene name'] == 'Il36rn']['Gene start (bp)'][0]"
   ]
  },
  {
   "cell_type": "code",
   "execution_count": 25,
   "metadata": {},
   "outputs": [
    {
     "name": "stdout",
     "output_type": "stream",
     "text": [
      "Min: 347\n",
      "Max: 2842\n",
      "Mean: 1481.857142857143\n",
      "Gene length: 6472\n"
     ]
    }
   ],
   "source": [
    "print(f'Min: {example1.min()}\\nMax: {example1.max()}\\nMean: {example1.mean()}\\nGene length: {end-start}')"
   ]
  },
  {
   "cell_type": "code",
   "execution_count": 26,
   "metadata": {},
   "outputs": [
    {
     "data": {
      "text/plain": [
       "min_transcript_length      347.000000\n",
       "max_transcript_length     2842.000000\n",
       "mean_transcript_length    1481.857143\n",
       "gene_length               6472.000000\n",
       "Name: Il36rn, dtype: float64"
      ]
     },
     "execution_count": 26,
     "metadata": {},
     "output_type": "execute_result"
    }
   ],
   "source": [
    "# Check that the values are the same\n",
    "gene_annot_mouse.loc['Il36rn',:]"
   ]
  },
  {
   "cell_type": "markdown",
   "metadata": {},
   "source": [
    "### Human"
   ]
  },
  {
   "cell_type": "code",
   "execution_count": 27,
   "metadata": {},
   "outputs": [],
   "source": [
    "example2 = genes_human[genes_human.loc[:, 'Gene name'] == 'HAX1']['Transcript length (including UTRs and CDS)']"
   ]
  },
  {
   "cell_type": "code",
   "execution_count": 28,
   "metadata": {},
   "outputs": [],
   "source": [
    "end = genes_human[genes_human.loc[:, 'Gene name'] == 'HAX1']['Gene end (bp)'][0]\n",
    "start = genes_human[genes_human.loc[:, 'Gene name'] == 'HAX1']['Gene start (bp)'][0]"
   ]
  },
  {
   "cell_type": "code",
   "execution_count": 29,
   "metadata": {},
   "outputs": [
    {
     "name": "stdout",
     "output_type": "stream",
     "text": [
      "Min: 464\n",
      "Max: 1783\n",
      "Mean: 1045.9583333333333\n",
      "Gene length: 3520\n"
     ]
    }
   ],
   "source": [
    "print(f'Min: {example2.min()}\\nMax: {example2.max()}\\nMean: {example2.mean()}\\nGene length: {end-start}')"
   ]
  },
  {
   "cell_type": "code",
   "execution_count": 30,
   "metadata": {},
   "outputs": [
    {
     "data": {
      "text/plain": [
       "min_transcript_length      464.000000\n",
       "max_transcript_length     1783.000000\n",
       "mean_transcript_length    1045.958333\n",
       "gene_length               3520.000000\n",
       "Name: HAX1, dtype: float64"
      ]
     },
     "execution_count": 30,
     "metadata": {},
     "output_type": "execute_result"
    }
   ],
   "source": [
    "# Check that the values are the same\n",
    "gene_annot_human.loc['HAX1',:]"
   ]
  },
  {
   "cell_type": "markdown",
   "metadata": {},
   "source": [
    "### Save mouse and human annotations"
   ]
  },
  {
   "cell_type": "code",
   "execution_count": 32,
   "metadata": {},
   "outputs": [],
   "source": [
    "gene_annot_mouse.to_csv('../../new_data/mouse_annotations_clean.csv')\n",
    "gene_annot_human.to_csv('../../new_data/human_annotations_clean.csv')"
   ]
  },
  {
   "cell_type": "markdown",
   "metadata": {},
   "source": [
    "## Function: processing pipeline"
   ]
  },
  {
   "cell_type": "code",
   "execution_count": null,
   "metadata": {},
   "outputs": [],
   "source": [
    "def processing(adata):\n",
    "    \"\"\"\n",
    "    Run standard preprocessing pipeline: normalization, log-transformation, detection of HVGs, \n",
    "    Principal Component Analysis, batch-effect correction (per mouse), and UMAP. \n",
    "    \"\"\"\n",
    "    sc.pp.normalize_total(adata, target_sum=1e4)\n",
    "    sc.pp.log1p(adata)\n",
    "    sc.pp.highly_variable_genes(adata, min_mean=0.0125, max_mean=3, min_disp=0.5)\n",
    "    sc.pp.pca(adata)\n",
    "    sce.pp.bbknn(adata, batch_key='batch')\n",
    "    sc.tl.umap(adata)\n",
    "    \n",
    "    return adata"
   ]
  },
  {
   "cell_type": "markdown",
   "metadata": {},
   "source": [
    "## Function: add gene annotations to annData"
   ]
  },
  {
   "cell_type": "code",
   "execution_count": null,
   "metadata": {},
   "outputs": [],
   "source": [
    "gene_annot_mouse.index"
   ]
  },
  {
   "cell_type": "code",
   "execution_count": null,
   "metadata": {},
   "outputs": [],
   "source": [
    "def add_gene_annot_to_annData(adata, gene_annot):\n",
    "    known_genes = list(set(adata.var_names).intersection(set(gene_annot.index)))\n",
    "    for annot in ['gene_length', 'mean_transcript_length', 'min_transcript_length', 'max_transcript_length']: \n",
    "        adata.var.loc[known_genes, annot] = gene_annot.loc[known_genes, annot]\n",
    "    return adata"
   ]
  },
  {
   "cell_type": "markdown",
   "metadata": {
    "tags": []
   },
   "source": [
    "## Function: harmonize TMS annotations\n",
    "* from ```cell_ontology_class``` to ```cell type```\n",
    "* from ```mouse.id``` to ```batch```\n",
    "* from ```age``` to ```age_number```\n",
    "* create category ```age``` that contains ```young``` and ```old``` annotations\n"
   ]
  },
  {
   "cell_type": "code",
   "execution_count": null,
   "metadata": {},
   "outputs": [],
   "source": [
    "def harmonize_TMS_annotations(adata):\n",
    "    age_dic = {'1m': 'young', '3m': 'young', '18m': 'old', '21m': 'old', '24m': 'old', '30m': 'old'}\n",
    "    \n",
    "    adata.obs.rename(columns = {'cell_ontology_class':'cell_type', 'mouse.id': 'batch'}, inplace=True)\n",
    "    adata.obs['age_number'] = [age_dic[age] for age in adata.obs['age']]\n",
    "    adata.obs['age'] = [age_dic[age] for age in adata.obs['age']]\n",
    "    # remove empty and unnecessary annotations\n",
    "    adata.obs.drop(['cell_ontology_id','method', 'free_annotation', 'louvain', 'leiden'], \n",
    "                   axis=1, inplace=True)\n",
    "    adata.obs['age'] = adata.obs['age'].astype('category')\n",
    "    adata.obs['age'].cat.reorder_categories(['young', 'old'], inplace=True) # so that the young are always plotted first"
   ]
  },
  {
   "cell_type": "markdown",
   "metadata": {},
   "source": [
    "## Function: plot UMAPS"
   ]
  },
  {
   "cell_type": "code",
   "execution_count": null,
   "metadata": {},
   "outputs": [],
   "source": [
    "bold_and_vivid = ['#7F3C8D','#11A579','#3969AC','#F2B701','#E73F74','#80BA5A','#E68310','#008695','#CF1C90',\n",
    "           '#f97b72','#4b4b8f', '#E58606','#5D69B1','#52BCA3','#99C945','#CC61B0','#24796C','#DAA51B',\n",
    "           '#2F8AC4','#764E9F','#ED645A','#CC3A8E']\n",
    "safe = ['#88CCEE', '#CC6677', '#DDCC77', '#117733', '#332288', '#AA4499', \n",
    "        '#44AA99', '#999933', '#882255', '#661100', '#6699CC']\n",
    "\n",
    "age_palette = ['#557e96ff', '#7C3E66']\n",
    "\n",
    "\n",
    "def plot_UMAPs(adata, dset): \n",
    "    fig, (ax0, ax1) = plt.subplots(1, 2, figsize=(8, 3))\n",
    "    sc.pl.umap(adata, ax=ax0, color='age', palette=age_palette, show=False, s=40)\n",
    "    sc.pl.umap(adata, ax=ax1,color='batch', palette=safe+bold_and_vivid, show=False, s=40)\n",
    "    ax0.set_xlabel('')\n",
    "    ax1.set_xlabel('')\n",
    "    ax0.set_ylabel('')\n",
    "    ax1.set_ylabel('')\n",
    "    plt.tight_layout()\n",
    "    plt.savefig(f'../output/figs/balanced/UMAPs_age_batch/png/{dset}.png', dpi=300)\n",
    "    plt.savefig(f'../output/figs/balanced/UMAPs_age_batch/svg/{dset}.svg')"
   ]
  },
  {
   "cell_type": "markdown",
   "metadata": {},
   "source": [
    "## Function: whole pipeline\n",
    "* Harmonization of age and batch annotations\n",
    "* Standard processing: log, DR, batch-effect correction\n",
    "* Add gene annotations (gene and min/max/mean transcript length)\n",
    "* Generate UMAPs and save them in /balanced/UMAPS_age_batch/\n",
    "* Save annDAta in annDatas_balanced/"
   ]
  },
  {
   "cell_type": "code",
   "execution_count": null,
   "metadata": {},
   "outputs": [],
   "source": [
    "def TMS_pipeline(adata, dset, dset_type): \n",
    "    harmonize_TMS_annotations(adata)\n",
    "    processing(adata)\n",
    "    add_gene_annot_to_annData(adata, gene_annot_mouse)\n",
    "    plot_UMAPs(adata, f'{dset}_{dset_type}')\n",
    "    adata.write(f'../data/annDatas_balanced/{dset}_{dset_type}.h5ad')"
   ]
  },
  {
   "cell_type": "markdown",
   "metadata": {
    "tags": [],
    "toc-hr-collapsed": true
   },
   "source": [
    "# Liver"
   ]
  },
  {
   "cell_type": "markdown",
   "metadata": {},
   "source": [
    "##  Liver (TMS FACS)\n",
    "We keep male mice: \n",
    "* 2 mice aged 3 months\n",
    "* 2 mice aged 24 months. "
   ]
  },
  {
   "cell_type": "code",
   "execution_count": null,
   "metadata": {},
   "outputs": [],
   "source": [
    "adata = sc.read(path2tms + 'tabula-muris-senis-facs-processed-official-annotations-Liver.h5ad')\n",
    "dset = 'TMS_FACS_liver'"
   ]
  },
  {
   "cell_type": "code",
   "execution_count": null,
   "metadata": {},
   "outputs": [],
   "source": [
    "sc.pl.umap(adata, color=['mouse.id', 'subtissue'])"
   ]
  },
  {
   "cell_type": "code",
   "execution_count": null,
   "metadata": {},
   "outputs": [],
   "source": [
    "adata_male_3_24 = adata[(adata.obs['sex'] == 'male') & (adata.obs['age'].isin(['3m', '24m']))]"
   ]
  },
  {
   "cell_type": "code",
   "execution_count": null,
   "metadata": {},
   "outputs": [],
   "source": [
    "sc.pl.umap(adata_male_3_24, color='mouse.id')"
   ]
  },
  {
   "cell_type": "code",
   "execution_count": null,
   "metadata": {},
   "outputs": [],
   "source": [
    "for dset_type in ['male_3_24']: \n",
    "    adata = eval(f'adata_{dset_type}')\n",
    "    TMS_pipeline(adata, dset, dset_type)"
   ]
  },
  {
   "cell_type": "markdown",
   "metadata": {
    "tags": []
   },
   "source": [
    "# Muscle"
   ]
  },
  {
   "cell_type": "markdown",
   "metadata": {
    "tags": []
   },
   "source": [
    "## Limb muscle (TMS FACS)\n",
    "We create two datasets.\n",
    "\n",
    "**Male dataset**: \n",
    "* 4 male mice aged 3 months\n",
    "* 4 male mice aged 24 months. \n",
    "\n",
    "**Female dataset**: \n",
    "* 2 female mice aged 3 months\n",
    "* 2 female mice aged 24 months. "
   ]
  },
  {
   "cell_type": "code",
   "execution_count": null,
   "metadata": {},
   "outputs": [],
   "source": [
    "adata = sc.read(path2tms+'/tabula-muris-senis-facs-processed-official-annotations-Limb_Muscle.h5ad')\n",
    "dset = 'TMS_FACS_muscle'"
   ]
  },
  {
   "cell_type": "code",
   "execution_count": null,
   "metadata": {},
   "outputs": [],
   "source": [
    "sc.pl.umap(adata, color=['mouse.id'])"
   ]
  },
  {
   "cell_type": "code",
   "execution_count": null,
   "metadata": {},
   "outputs": [],
   "source": [
    "adata_male_3_24 = adata[(adata.obs['sex'] == 'male') & (adata.obs['age'].isin(['3m', '24m']))]\n",
    "adata_female_3_18 = adata[(adata.obs['sex'] == 'female') & (adata.obs['age'].isin(['3m', '18m']))]"
   ]
  },
  {
   "cell_type": "code",
   "execution_count": null,
   "metadata": {},
   "outputs": [],
   "source": [
    "for dset_type in ['male_3_24', 'female_3_18']: \n",
    "    adata = eval(f'adata_{dset_type}')\n",
    "    TMS_pipeline(adata, dset, dset_type)"
   ]
  },
  {
   "cell_type": "code",
   "execution_count": null,
   "metadata": {},
   "outputs": [],
   "source": [
    "# Save whole dataset:\n",
    "adata = sc.read(path2tms+'/tabula-muris-senis-facs-processed-official-annotations-Limb_Muscle.h5ad')\n",
    "dset = 'TMS_FACS_muscle'\n",
    "TMS_pipeline(adata, dset, 'all_mice')"
   ]
  },
  {
   "cell_type": "markdown",
   "metadata": {
    "tags": []
   },
   "source": [
    "## Limb muscle (TMS droplet)"
   ]
  },
  {
   "cell_type": "code",
   "execution_count": null,
   "metadata": {},
   "outputs": [],
   "source": [
    "adata = sc.read(path2tms+'/tabula-muris-senis-droplet-processed-official-annotations-Limb_Muscle.h5ad')\n",
    "dset = 'TMS_droplet_muscle'"
   ]
  },
  {
   "cell_type": "code",
   "execution_count": null,
   "metadata": {},
   "outputs": [],
   "source": [
    "sc.pl.umap(adata, color=['mouse.id'])"
   ]
  },
  {
   "cell_type": "code",
   "execution_count": null,
   "metadata": {},
   "outputs": [],
   "source": [
    "adata_male_1_24 = adata[(adata.obs['sex'] == 'male') & (adata.obs['age'].isin(['1m', '24m']))]\n",
    "adata_female_3_21 = adata[(adata.obs['sex'] == 'female') & (adata.obs['age'].isin(['3m', '21m']))]"
   ]
  },
  {
   "cell_type": "code",
   "execution_count": null,
   "metadata": {},
   "outputs": [],
   "source": [
    "sc.pl.umap(adata_male_1_24, color='age')"
   ]
  },
  {
   "cell_type": "code",
   "execution_count": null,
   "metadata": {},
   "outputs": [],
   "source": [
    "sc.pl.umap(adata_female_3_21, color='age')"
   ]
  },
  {
   "cell_type": "code",
   "execution_count": null,
   "metadata": {},
   "outputs": [],
   "source": [
    "for dset_type in ['male_1_24', 'female_3_21']: \n",
    "    adata = eval(f'adata_{dset_type}')\n",
    "    TMS_pipeline(adata, dset, dset_type)"
   ]
  },
  {
   "cell_type": "code",
   "execution_count": null,
   "metadata": {},
   "outputs": [],
   "source": [
    "# Save whole dataset:\n",
    "adata = sc.read(path2tms+'/tabula-muris-senis-droplet-processed-official-annotations-Limb_Muscle.h5ad')\n",
    "dset = 'TMS_droplet_muscle'\n",
    "TMS_pipeline(adata, dset, 'all_mice')"
   ]
  },
  {
   "cell_type": "markdown",
   "metadata": {
    "tags": [],
    "toc-hr-collapsed": true
   },
   "source": [
    "# Brain "
   ]
  },
  {
   "cell_type": "markdown",
   "metadata": {
    "tags": []
   },
   "source": [
    "##  Brain non-myeloid (TMS FACS)\n",
    "\n",
    "**Male dataset**: \n",
    "* 4 male mice aged 3 months\n",
    "* 4 male mice aged 24 months\n",
    "\n",
    "**Female dataset**:\n",
    "* 3 female mice aged 3 months\n",
    "* 2 female mice aged 18 months"
   ]
  },
  {
   "cell_type": "code",
   "execution_count": null,
   "metadata": {},
   "outputs": [],
   "source": [
    "adata = sc.read(path2tms+'tabula-muris-senis-facs-processed-official-annotations-Brain_Non-Myeloid.h5ad')\n",
    "dset = 'TMS_FACS_brain_non_myeloid'"
   ]
  },
  {
   "cell_type": "code",
   "execution_count": null,
   "metadata": {},
   "outputs": [],
   "source": [
    "sc.pl.umap(adata, color=['mouse.id'])"
   ]
  },
  {
   "cell_type": "code",
   "execution_count": null,
   "metadata": {},
   "outputs": [],
   "source": [
    "adata_male_3_24 = adata[(adata.obs['sex'] == 'male') & (adata.obs['age'].isin(['3m', '24m']))]\n",
    "adata_female_3_18 = adata[(adata.obs['sex'] == 'female') & (adata.obs['age'].isin(['3m', '18m']))]"
   ]
  },
  {
   "cell_type": "code",
   "execution_count": null,
   "metadata": {},
   "outputs": [],
   "source": [
    "for dset_type in ['male_3_24', 'female_3_18']: \n",
    "    adata = eval(f'adata_{dset_type}')\n",
    "    TMS_pipeline(adata, dset, dset_type)"
   ]
  },
  {
   "cell_type": "markdown",
   "metadata": {},
   "source": [
    "## Brain myeloid (TMS FACS)  (NOT DONE)"
   ]
  },
  {
   "cell_type": "code",
   "execution_count": null,
   "metadata": {},
   "outputs": [],
   "source": [
    "adata = sc.read(path2tms + 'tabula-muris-senis-facs-processed-official-annotations-Brain_Myeloid.h5ad')\n",
    "dset = 'TMS_FACS_brain_myeloid'"
   ]
  },
  {
   "cell_type": "code",
   "execution_count": null,
   "metadata": {},
   "outputs": [],
   "source": [
    "sc.pl.umap(adata, color=['mouse.id'])"
   ]
  },
  {
   "cell_type": "code",
   "execution_count": null,
   "metadata": {},
   "outputs": [],
   "source": [
    "adata_male_3_18 = adata[(adata.obs['sex'] == 'male') & (adata.obs['age'].isin(['3m', '18m']))]\n",
    "adata_male_3_24 = adata[(adata.obs['sex'] == 'male') & (adata.obs['age'].isin(['3m', '24m']))]\n",
    "adata_female_3_18 = adata[(adata.obs['sex'] == 'female') & (adata.obs['age'].isin(['3m', '18m']))]"
   ]
  },
  {
   "cell_type": "code",
   "execution_count": null,
   "metadata": {},
   "outputs": [],
   "source": [
    "for dset_type in ['male_3_18', 'male_3_24', 'female_3_18']: \n",
    "    adata = eval(f'adata_{dset_type}')\n",
    "    TMS_pipeline(adata, dset, dset_type)"
   ]
  },
  {
   "cell_type": "markdown",
   "metadata": {},
   "source": [
    "## Brain (Ximerakis)"
   ]
  },
  {
   "cell_type": "code",
   "execution_count": null,
   "metadata": {},
   "outputs": [],
   "source": [
    "adata = sc.read('../data/annDatas_processed/Ximerakis.h5ad')"
   ]
  },
  {
   "cell_type": "code",
   "execution_count": null,
   "metadata": {},
   "outputs": [],
   "source": [
    "adata.X = csr_matrix(adata.X)"
   ]
  },
  {
   "cell_type": "code",
   "execution_count": null,
   "metadata": {},
   "outputs": [],
   "source": [
    "sc.pl.umap(adata, color='age')"
   ]
  },
  {
   "cell_type": "code",
   "execution_count": null,
   "metadata": {},
   "outputs": [],
   "source": [
    "adata = add_gene_annot_to_annData(adata, gene_annot_mouse)"
   ]
  },
  {
   "cell_type": "code",
   "execution_count": null,
   "metadata": {},
   "outputs": [],
   "source": [
    "age_dic = {'old': '22m', 'young': '2.5m'}\n",
    "adata.obs['age_number'] = [age_dic[age] for age in adata.obs['age']]"
   ]
  },
  {
   "cell_type": "code",
   "execution_count": null,
   "metadata": {},
   "outputs": [],
   "source": [
    "adata.write('../data/annDatas_balanced/Ximerakis_male_2_22.h5ad')"
   ]
  },
  {
   "cell_type": "markdown",
   "metadata": {
    "tags": [],
    "toc-hr-collapsed": true
   },
   "source": [
    "# Heart"
   ]
  },
  {
   "cell_type": "markdown",
   "metadata": {
    "tags": []
   },
   "source": [
    "## Heart and aorta (TMS droplet) \n",
    "\n",
    "\n",
    "**Male dataset 1_18**\n",
    "* 1 male mouse aged 1 month\n",
    "* 2 male mice aged 18 months\n",
    "\n",
    "**Male dataset 1_24**:\n",
    "* 1 male mouse aged 1 month\n",
    "* 2 male mice aged 24 months\n",
    "\n",
    "**Female dataset 3_18**:\n",
    "* 1 female mouse aged 3 months\n",
    "* 1 female mouse aged 18 months\n",
    "\n",
    "**Female dataset 3_21**:\n",
    "* 1 female mouse aged 3 months\n",
    "* 2 female mice aged 21 months"
   ]
  },
  {
   "cell_type": "code",
   "execution_count": null,
   "metadata": {},
   "outputs": [],
   "source": [
    "adata = sc.read(path2tms + 'tabula-muris-senis-droplet-processed-official-annotations-Heart_and_Aorta.h5ad')\n",
    "dset = 'TMS_droplet_heart_and_aorta'"
   ]
  },
  {
   "cell_type": "code",
   "execution_count": null,
   "metadata": {},
   "outputs": [],
   "source": [
    "sc.pl.umap(adata, color=['mouse.id'])"
   ]
  },
  {
   "cell_type": "code",
   "execution_count": null,
   "metadata": {},
   "outputs": [],
   "source": [
    "adata_male_1_18 = adata[(adata.obs['sex'] == 'male') & (adata.obs['age'].isin(['1m', '18m']))]\n",
    "adata_male_1_24 = adata[(adata.obs['sex'] == 'male') & (adata.obs['age'].isin(['1m', '24m']))]\n",
    "\n",
    "adata_female_3_18 = adata[(adata.obs['sex'] == 'female') & (adata.obs['age'].isin(['3m', '18m']))]\n",
    "adata_female_3_21 = adata[(adata.obs['sex'] == 'female') & (adata.obs['age'].isin(['3m', '21m']))]"
   ]
  },
  {
   "cell_type": "code",
   "execution_count": null,
   "metadata": {
    "scrolled": true,
    "tags": []
   },
   "outputs": [],
   "source": [
    "for dset_type in ['male_1_18', 'male_1_24', 'female_3_18', 'female_3_21']:\n",
    "    adata = eval(f'adata_{dset_type}')\n",
    "    TMS_pipeline(adata, dset, dset_type)"
   ]
  },
  {
   "cell_type": "code",
   "execution_count": null,
   "metadata": {},
   "outputs": [],
   "source": [
    "# Save whole dataset:\n",
    "adata = sc.read(path2tms + 'tabula-muris-senis-droplet-processed-official-annotations-Heart_and_Aorta.h5ad')\n",
    "dset = 'TMS_droplet_heart'\n",
    "TMS_pipeline(adata, dset, 'all_mice')"
   ]
  },
  {
   "cell_type": "markdown",
   "metadata": {},
   "source": [
    "## Heart (TMS FACS)"
   ]
  },
  {
   "cell_type": "code",
   "execution_count": null,
   "metadata": {},
   "outputs": [],
   "source": [
    "adata = sc.read(path2tms + 'tabula-muris-senis-facs-processed-official-annotations-Heart.h5ad')\n",
    "dset = 'TMS_FACS_heart'"
   ]
  },
  {
   "cell_type": "code",
   "execution_count": null,
   "metadata": {},
   "outputs": [],
   "source": [
    "sc.pl.umap(adata, color=['mouse.id'])"
   ]
  },
  {
   "cell_type": "code",
   "execution_count": null,
   "metadata": {},
   "outputs": [],
   "source": [
    "adata_male_3_24 = adata[(adata.obs['sex'] == 'male') & (adata.obs['age'].isin(['3m', '24m']))]\n",
    "adata_female_3_18 = adata[(adata.obs['sex'] == 'female') & (adata.obs['age'].isin(['3m', '18m']))]"
   ]
  },
  {
   "cell_type": "code",
   "execution_count": null,
   "metadata": {},
   "outputs": [],
   "source": [
    "sc.pl.umap(adata_male_3_24, color='age')"
   ]
  },
  {
   "cell_type": "code",
   "execution_count": null,
   "metadata": {},
   "outputs": [],
   "source": [
    "sc.pl.umap(adata_female_3_18, color='age')"
   ]
  },
  {
   "cell_type": "code",
   "execution_count": null,
   "metadata": {
    "scrolled": true,
    "tags": []
   },
   "outputs": [],
   "source": [
    "for dset_type in ['male_3_24', 'female_3_18']:\n",
    "    adata = eval(f'adata_{dset_type}')\n",
    "    TMS_pipeline(adata, dset, dset_type)"
   ]
  },
  {
   "cell_type": "code",
   "execution_count": null,
   "metadata": {},
   "outputs": [],
   "source": [
    "# Save whole dataset: \n",
    "adata = sc.read(path2tms + 'tabula-muris-senis-facs-processed-official-annotations-Heart.h5ad')\n",
    "dset = 'TMS_FACS_heart'\n",
    "TMS_pipeline(adata, dset, 'all_mice')"
   ]
  },
  {
   "cell_type": "markdown",
   "metadata": {
    "toc-hr-collapsed": true
   },
   "source": [
    "# Thymus"
   ]
  },
  {
   "cell_type": "markdown",
   "metadata": {},
   "source": [
    "## Thymus (TMS FACS) \n",
    "\n",
    "**Male dataset**\n",
    "* 3 male mice aged 3 months\n",
    "* 4 male mice aged 24 months\n",
    "\n",
    "**Female dataset**\n",
    "* 2 female mice aged 3 months\n",
    "* 2 female mice aged 18 months"
   ]
  },
  {
   "cell_type": "code",
   "execution_count": null,
   "metadata": {},
   "outputs": [],
   "source": [
    "adata = sc.read(path2tms + 'tabula-muris-senis-facs-processed-official-annotations-Thymus.h5ad')\n",
    "dset = 'TMS_FACS_thymus'"
   ]
  },
  {
   "cell_type": "code",
   "execution_count": null,
   "metadata": {},
   "outputs": [],
   "source": [
    "sc.pl.umap(adata, color=['mouse.id'])"
   ]
  },
  {
   "cell_type": "code",
   "execution_count": null,
   "metadata": {},
   "outputs": [],
   "source": [
    "adata_male_3_24 = adata[(adata.obs['sex'] == 'male') & (adata.obs['age'].isin(['3m', '24m']))]\n",
    "adata_female_3_18 = adata[(adata.obs['sex'] == 'female') & (adata.obs['age'].isin(['3m', '18m']))]"
   ]
  },
  {
   "cell_type": "code",
   "execution_count": null,
   "metadata": {},
   "outputs": [],
   "source": [
    "for dset_type in ['male_3_24', 'female_3_18']:\n",
    "    adata = eval(f'adata_{dset_type}')\n",
    "    TMS_pipeline(adata, dset, dset_type)"
   ]
  },
  {
   "cell_type": "markdown",
   "metadata": {
    "toc-hr-collapsed": true
   },
   "source": [
    "# Skin"
   ]
  },
  {
   "cell_type": "markdown",
   "metadata": {},
   "source": [
    "## Skin (TMS FACS)"
   ]
  },
  {
   "cell_type": "code",
   "execution_count": null,
   "metadata": {},
   "outputs": [],
   "source": [
    "adata = sc.read(path2tms+'tabula-muris-senis-facs-processed-official-annotations-Skin.h5ad')\n",
    "dset = 'TMS_FACS_skin'"
   ]
  },
  {
   "cell_type": "code",
   "execution_count": null,
   "metadata": {},
   "outputs": [],
   "source": [
    "sc.pl.umap(adata, color=['mouse.id'])"
   ]
  },
  {
   "cell_type": "code",
   "execution_count": null,
   "metadata": {},
   "outputs": [],
   "source": [
    "adata_male_3_24 = adata[(adata.obs['sex'] == 'male') & (adata.obs['age'].isin(['3m', '24m']))]\n",
    "adata_female_3_18 = adata[(adata.obs['sex'] == 'female') & (adata.obs['age'].isin(['3m', '18m']))]"
   ]
  },
  {
   "cell_type": "code",
   "execution_count": null,
   "metadata": {},
   "outputs": [],
   "source": [
    "for dset_type in ['male_3_24', 'female_3_18']:\n",
    "    adata = eval(f'adata_{dset_type}')\n",
    "    TMS_pipeline(adata, dset, dset_type)"
   ]
  },
  {
   "cell_type": "markdown",
   "metadata": {},
   "source": [
    "## Skin (TMS droplet) \n",
    "There are no young individuals. "
   ]
  },
  {
   "cell_type": "code",
   "execution_count": null,
   "metadata": {},
   "outputs": [],
   "source": [
    "adata = sc.read(path2tms + 'tabula-muris-senis-droplet-processed-official-annotations-Skin.h5ad')\n",
    "dset = 'TMS_droplet_skin'"
   ]
  },
  {
   "cell_type": "code",
   "execution_count": null,
   "metadata": {},
   "outputs": [],
   "source": [
    "sc.pl.umap(adata, color='mouse.id')"
   ]
  },
  {
   "cell_type": "markdown",
   "metadata": {
    "toc-hr-collapsed": true
   },
   "source": [
    "# Bladder"
   ]
  },
  {
   "cell_type": "markdown",
   "metadata": {},
   "source": [
    "## Bladder (TMS droplet)"
   ]
  },
  {
   "cell_type": "code",
   "execution_count": null,
   "metadata": {},
   "outputs": [],
   "source": [
    "adata = sc.read(path2tms+'tabula-muris-senis-droplet-processed-official-annotations-Bladder.h5ad')\n",
    "dset = 'TMS_droplet_bladder'"
   ]
  },
  {
   "cell_type": "code",
   "execution_count": null,
   "metadata": {},
   "outputs": [],
   "source": [
    "sc.pl.umap(adata, color=['mouse.id'])"
   ]
  },
  {
   "cell_type": "code",
   "execution_count": null,
   "metadata": {},
   "outputs": [],
   "source": [
    "adata_male_3_24 = adata[(adata.obs['sex'] == 'male') & (adata.obs['age'].isin(['3m', '24m']))]\n",
    "TMS_pipeline(adata_male_3_24, dset, 'male_3_24')"
   ]
  },
  {
   "cell_type": "markdown",
   "metadata": {
    "toc-hr-collapsed": true
   },
   "source": [
    "# Kidney"
   ]
  },
  {
   "cell_type": "markdown",
   "metadata": {},
   "source": [
    "## TMS droplet kidney"
   ]
  },
  {
   "cell_type": "code",
   "execution_count": null,
   "metadata": {},
   "outputs": [],
   "source": [
    "adata = sc.read(path2tms+'tabula-muris-senis-droplet-processed-official-annotations-Kidney.h5ad')\n",
    "dset = 'TMS_droplet_kidney'"
   ]
  },
  {
   "cell_type": "code",
   "execution_count": null,
   "metadata": {},
   "outputs": [],
   "source": [
    "sc.pl.umap(adata, color=['mouse.id'])"
   ]
  },
  {
   "cell_type": "code",
   "execution_count": null,
   "metadata": {},
   "outputs": [],
   "source": [
    "sc.pl.umap(adata[adata.obs['age'].isin(['1m', '3m', '30m'])], color=['mouse.id'])"
   ]
  },
  {
   "cell_type": "markdown",
   "metadata": {},
   "source": [
    "There are no young and old samples from the same subtissue of same sex individuals."
   ]
  },
  {
   "cell_type": "markdown",
   "metadata": {},
   "source": [
    "## TMS FACS kidney"
   ]
  },
  {
   "cell_type": "code",
   "execution_count": null,
   "metadata": {},
   "outputs": [],
   "source": [
    "adata = sc.read(path2tms+'tabula-muris-senis-facs-processed-official-annotations-Kidney.h5ad')\n",
    "dset = 'TMS_FACS_kidney'"
   ]
  },
  {
   "cell_type": "code",
   "execution_count": null,
   "metadata": {},
   "outputs": [],
   "source": [
    "sc.pl.umap(adata, color=['mouse.id'])"
   ]
  },
  {
   "cell_type": "code",
   "execution_count": null,
   "metadata": {},
   "outputs": [],
   "source": [
    "adata_male_3_18 = adata[(adata.obs['sex'] == 'male') & (adata.obs['age'].isin(['3m', '18m']))]\n",
    "adata_male_3_24 = adata[(adata.obs['sex'] == 'male') & (adata.obs['age'].isin(['3m', '24m']))]\n",
    "adata_female_3_18 = adata[(adata.obs['sex'] == 'female') & (adata.obs['age'].isin(['3m', '18m']))]"
   ]
  },
  {
   "cell_type": "code",
   "execution_count": null,
   "metadata": {},
   "outputs": [],
   "source": [
    "for dset_type in ['male_3_18', 'male_3_24', 'female_3_18']:\n",
    "    adata = eval(f'adata_{dset_type}')\n",
    "    TMS_pipeline(adata, dset, dset_type)"
   ]
  },
  {
   "cell_type": "markdown",
   "metadata": {},
   "source": [
    "## Kimmel: kidney\n",
    "The processing of all three Kimmel datasets is below, in the \"Kimmel\" section. "
   ]
  },
  {
   "cell_type": "markdown",
   "metadata": {
    "tags": [],
    "toc-hr-collapsed": true
   },
   "source": [
    "# Lung"
   ]
  },
  {
   "cell_type": "markdown",
   "metadata": {},
   "source": [
    "## Lung (TMS FACS)"
   ]
  },
  {
   "cell_type": "code",
   "execution_count": null,
   "metadata": {},
   "outputs": [],
   "source": [
    "adata = sc.read(path2tms+'tabula-muris-senis-facs-processed-official-annotations-Lung.h5ad')\n",
    "dset= 'TMS_FACS_lung'"
   ]
  },
  {
   "cell_type": "code",
   "execution_count": null,
   "metadata": {},
   "outputs": [],
   "source": [
    "sc.pl.umap(adata, color=['mouse.id'])"
   ]
  },
  {
   "cell_type": "code",
   "execution_count": null,
   "metadata": {},
   "outputs": [],
   "source": [
    "adata_male_3_24 = adata[(adata.obs['sex'] == 'male') & (adata.obs['age'].isin(['3m', '24m']))]\n",
    "adata_female_3_18 = adata[(adata.obs['sex'] == 'female') & (adata.obs['age'].isin(['3m', '18m']))]"
   ]
  },
  {
   "cell_type": "code",
   "execution_count": null,
   "metadata": {},
   "outputs": [],
   "source": [
    "sc.pl.umap(adata_female_3_18, color=['mouse.id', 'age'])"
   ]
  },
  {
   "cell_type": "code",
   "execution_count": null,
   "metadata": {},
   "outputs": [],
   "source": [
    "for dset_type in ['male_3_24', 'female_3_18']:\n",
    "    adata = eval(f'adata_{dset_type}')\n",
    "    TMS_pipeline(adata, dset, dset_type)"
   ]
  },
  {
   "cell_type": "markdown",
   "metadata": {},
   "source": [
    "## Lung (Angelidis)"
   ]
  },
  {
   "cell_type": "code",
   "execution_count": null,
   "metadata": {},
   "outputs": [],
   "source": [
    "adata = sc.read('../data/annDatas_processed/Angelidis_annotated.h5ad')\n",
    "dset = 'Angelidis'"
   ]
  },
  {
   "cell_type": "code",
   "execution_count": null,
   "metadata": {},
   "outputs": [],
   "source": [
    "adata.obs['batch'] = adata.obs['mouse']"
   ]
  },
  {
   "cell_type": "code",
   "execution_count": null,
   "metadata": {},
   "outputs": [],
   "source": [
    "sc.pl.umap(adata, color=['mouse', 'age'])"
   ]
  },
  {
   "cell_type": "code",
   "execution_count": null,
   "metadata": {},
   "outputs": [],
   "source": [
    "plot_UMAPs(adata, 'Angelidis')"
   ]
  },
  {
   "cell_type": "code",
   "execution_count": null,
   "metadata": {},
   "outputs": [],
   "source": [
    "# Simplify cell type annotation\n",
    "sc.pl.umap(adata, color='cell_type')"
   ]
  },
  {
   "cell_type": "code",
   "execution_count": null,
   "metadata": {},
   "outputs": [],
   "source": [
    "set(adata.obs['cell_type'])"
   ]
  },
  {
   "cell_type": "code",
   "execution_count": null,
   "metadata": {},
   "outputs": [],
   "source": [
    "cell_type_dic = {\n",
    "    'Alveolar macrophage': 'Alveolar macrophage',\n",
    " 'B cells': 'B cell',\n",
    " 'Capillary endothelial cells': 'Endothelial', \n",
    " 'Ccl17+/cd103-/cd11b- dendritic cells': 'Dendritic cell',\n",
    " 'Cd103+/cd11b- dendritic cells': 'Dendritic cell', \n",
    " 'Cd209+/cd11b+ dendritic cells': 'Dendritic cell', \n",
    " 'Cd4+ t cells': 'T cell', \n",
    " 'Cd8+ t cells': 'T cell', \n",
    " 'Ciliated cells': 'Ciliated', \n",
    " 'Classical monocyte (ly6c2+)': 'Monocyte', \n",
    " 'Club cells': 'Club cell', \n",
    " 'Eosinophils': 'Granulocyte', \n",
    " 'Fn1+ macrophage': 'Macrophage', \n",
    " 'Gamma-delta t cells': 'T cell', \n",
    " 'Goblet cells': 'Goblet cell', \n",
    " 'Interstitial fibroblast': 'Fibroblast', \n",
    " 'Interstitial macrophages': 'Macrophage', \n",
    " 'Lipofibroblast': 'Fibroblast', \n",
    " 'Lymphatic endothelial cells': 'Endothelial', \n",
    " 'Megakaryocytes': 'Megakaryocyte', \n",
    " 'Mesothelial cells': 'Mesothelial', \n",
    " 'Mki67+ proliferating cells': 'Profilerating', \n",
    " 'Natural killer cells': 'NK cell', \n",
    " 'Neutrophils': 'Granulocyte', \n",
    " 'Non-classical monocyte (ly6c2-)': 'Monocyte', \n",
    " 'Plasma cells': 'Plasma cell', \n",
    " 'Red blood cells': 'Erythrocyte', \n",
    " 'Smooth muscle cells': 'Smooth muscle', \n",
    " 'Type 1 pneumocytes': 'Pneumocyte', \n",
    " 'Type 2 pneumocytes': 'Pneumocyte', \n",
    " 'Vascular endothelial cells': 'Endothelial', \n",
    " 'Vcam1+ endothelial cells': 'Endothelial'}"
   ]
  },
  {
   "cell_type": "code",
   "execution_count": null,
   "metadata": {},
   "outputs": [],
   "source": [
    "adata.obs['cell_type_original'] = adata.obs['cell_type']\n",
    "adata.obs['cell_type'] = [cell_type_dic[ct] for ct in adata.obs['cell_type']]"
   ]
  },
  {
   "cell_type": "code",
   "execution_count": null,
   "metadata": {},
   "outputs": [],
   "source": [
    "sc.pl.umap(adata, color=['cell_type_original', 'cell_type'], ncols=1)"
   ]
  },
  {
   "cell_type": "code",
   "execution_count": null,
   "metadata": {},
   "outputs": [],
   "source": [
    "sc.tl.rank_genes_groups(adata, groupby='cell_type')"
   ]
  },
  {
   "cell_type": "code",
   "execution_count": null,
   "metadata": {},
   "outputs": [],
   "source": [
    "pd.DataFrame(adata.uns['rank_genes_groups']['names']).to_csv('../output/tables/Angelidis_ct_markers.csv')"
   ]
  },
  {
   "cell_type": "code",
   "execution_count": null,
   "metadata": {},
   "outputs": [],
   "source": [
    "adata = add_gene_annot_to_annData(adata, gene_annot_mouse)"
   ]
  },
  {
   "cell_type": "code",
   "execution_count": null,
   "metadata": {},
   "outputs": [],
   "source": [
    "adata.write('../data/annDatas_balanced/Angelidis_lung_3_24.h5ad')"
   ]
  },
  {
   "cell_type": "markdown",
   "metadata": {
    "tags": [],
    "toc-hr-collapsed": true
   },
   "source": [
    "# Pancreas"
   ]
  },
  {
   "cell_type": "markdown",
   "metadata": {},
   "source": [
    "## Pancreas (TMS FACS) "
   ]
  },
  {
   "cell_type": "code",
   "execution_count": null,
   "metadata": {},
   "outputs": [],
   "source": [
    "adata = sc.read(path2tms+'tabula-muris-senis-facs-processed-official-annotations-Pancreas.h5ad')\n",
    "dset = 'TMS_FACS_pancreas'"
   ]
  },
  {
   "cell_type": "code",
   "execution_count": null,
   "metadata": {},
   "outputs": [],
   "source": [
    "sc.pl.umap(adata, color=['mouse.id'])"
   ]
  },
  {
   "cell_type": "code",
   "execution_count": null,
   "metadata": {},
   "outputs": [],
   "source": [
    "adata_male_3_24 = adata[(adata.obs['sex'] == 'male') & (adata.obs['age'].isin(['3m', '24m']))]\n",
    "adata_female_3_18 = adata[(adata.obs['sex'] == 'female') & (adata.obs['age'].isin(['3m', '18m']))]"
   ]
  },
  {
   "cell_type": "code",
   "execution_count": null,
   "metadata": {},
   "outputs": [],
   "source": [
    "for dset_type in ['male_3_24', 'female_3_18']:\n",
    "    adata = eval(f'adata_{dset_type}')\n",
    "    TMS_pipeline(adata, dset, dset_type)"
   ]
  },
  {
   "cell_type": "markdown",
   "metadata": {},
   "source": [
    "## Pancreas (TMS droplet) \n",
    "There are no young individuals. "
   ]
  },
  {
   "cell_type": "markdown",
   "metadata": {
    "toc-hr-collapsed": true
   },
   "source": [
    "# Mammary gland"
   ]
  },
  {
   "cell_type": "markdown",
   "metadata": {},
   "source": [
    "## Mammary gland (TMS droplet)"
   ]
  },
  {
   "cell_type": "code",
   "execution_count": null,
   "metadata": {},
   "outputs": [],
   "source": [
    "adata = sc.read(path2tms+'tabula-muris-senis-droplet-processed-official-annotations-Mammary_Gland.h5ad')\n",
    "dset = 'TMS_droplet_mammary_gland'"
   ]
  },
  {
   "cell_type": "code",
   "execution_count": null,
   "metadata": {},
   "outputs": [],
   "source": [
    "sc.pl.umap(adata, color=['mouse.id'])"
   ]
  },
  {
   "cell_type": "code",
   "execution_count": null,
   "metadata": {},
   "outputs": [],
   "source": [
    "adata_female_3_18 = adata[adata.obs['age'].isin(['3m', '18m'])]\n",
    "adata_female_3_21 = adata[adata.obs['age'].isin(['3m', '21m'])]"
   ]
  },
  {
   "cell_type": "code",
   "execution_count": null,
   "metadata": {},
   "outputs": [],
   "source": [
    "for dset_type in ['female_3_18', 'female_3_21']:\n",
    "    adata = eval(f'adata_{dset_type}')\n",
    "    TMS_pipeline(adata, dset, dset_type)"
   ]
  },
  {
   "cell_type": "markdown",
   "metadata": {},
   "source": [
    "## Mammary gland (TMS FACS) (NOT DONE)"
   ]
  },
  {
   "cell_type": "code",
   "execution_count": null,
   "metadata": {},
   "outputs": [],
   "source": [
    "adata = sc.read(path2tms+'tabula-muris-senis-facs-processed-official-annotations-Mammary_Gland.h5ad')\n",
    "dset = 'TMS_FACS_mammary_gland'"
   ]
  },
  {
   "cell_type": "code",
   "execution_count": null,
   "metadata": {},
   "outputs": [],
   "source": [
    "sc.pl.umap(adata, color=['mouse.id'])"
   ]
  },
  {
   "cell_type": "code",
   "execution_count": null,
   "metadata": {},
   "outputs": [],
   "source": [
    "adata_female_3_18 = adata[adata.obs['age'].isin(['3m', '18m'])]\n",
    "adata_female_3_21 = adata[adata.obs['age'].isin(['3m', '21m'])]"
   ]
  },
  {
   "cell_type": "code",
   "execution_count": null,
   "metadata": {},
   "outputs": [],
   "source": [
    "for dset_type in ['female_3_18', 'female_3_21']:\n",
    "    adata = eval(f'adata_{dset_type}')\n",
    "    TMS_pipeline(adata, dset, dset_type)"
   ]
  },
  {
   "cell_type": "markdown",
   "metadata": {
    "toc-hr-collapsed": true
   },
   "source": [
    "# Spleen"
   ]
  },
  {
   "cell_type": "markdown",
   "metadata": {},
   "source": [
    "## Spleen (TMS FACS) "
   ]
  },
  {
   "cell_type": "code",
   "execution_count": null,
   "metadata": {},
   "outputs": [],
   "source": [
    "adata = sc.read(path2tms+'tabula-muris-senis-facs-processed-official-annotations-Spleen.h5ad')\n",
    "dset = 'TMS_FACS_spleen'"
   ]
  },
  {
   "cell_type": "code",
   "execution_count": null,
   "metadata": {},
   "outputs": [],
   "source": [
    "sc.pl.umap(adata, color=['mouse.id'])"
   ]
  },
  {
   "cell_type": "code",
   "execution_count": null,
   "metadata": {},
   "outputs": [],
   "source": [
    "adata_male_3_24 = adata[(adata.obs['sex'] == 'male') & (adata.obs['age'].isin(['3m', '24m']))]\n",
    "adata_female_3_18 = adata[(adata.obs['sex'] == 'female') & (adata.obs['age'].isin(['3m', '18m']))]"
   ]
  },
  {
   "cell_type": "code",
   "execution_count": null,
   "metadata": {},
   "outputs": [],
   "source": [
    "for dset_type in ['male_3_24', 'female_3_18']:\n",
    "    adata = eval(f'adata_{dset_type}')\n",
    "    TMS_pipeline(adata, dset, dset_type)"
   ]
  },
  {
   "cell_type": "code",
   "execution_count": null,
   "metadata": {},
   "outputs": [],
   "source": [
    "adata = sc.read(path2tms+'tabula-muris-senis-facs-processed-official-annotations-Spleen.h5ad')\n",
    "sc.pl.umap(adata, color='cell_ontology_class')"
   ]
  },
  {
   "cell_type": "code",
   "execution_count": null,
   "metadata": {},
   "outputs": [],
   "source": [
    "sc.tl.rank_genes_groups(adata, groupby='cell_ontology_class')"
   ]
  },
  {
   "cell_type": "code",
   "execution_count": null,
   "metadata": {},
   "outputs": [],
   "source": [
    "pd.DataFrame(adata.uns['rank_genes_groups']['names']).to_csv('../output/tables/TMS_spleen_ct_markers.csv')"
   ]
  },
  {
   "cell_type": "markdown",
   "metadata": {},
   "source": [
    "## Kimmel: spleen\n",
    "Processing inside the \"Kimmel\" section. "
   ]
  },
  {
   "cell_type": "markdown",
   "metadata": {},
   "source": [
    "# Raredon"
   ]
  },
  {
   "cell_type": "code",
   "execution_count": null,
   "metadata": {},
   "outputs": [],
   "source": [
    "adata = sc.read('../data/annDatas_processed/Raredon_young_old.h5ad')"
   ]
  },
  {
   "cell_type": "code",
   "execution_count": null,
   "metadata": {},
   "outputs": [],
   "source": [
    "adata.X = csr_matrix(adata.X)"
   ]
  },
  {
   "cell_type": "code",
   "execution_count": null,
   "metadata": {},
   "outputs": [],
   "source": [
    "adata.obs['age'] = [age.lower() for age in adata.obs['age']]"
   ]
  },
  {
   "cell_type": "code",
   "execution_count": null,
   "metadata": {},
   "outputs": [],
   "source": [
    "adata = processing(adata)"
   ]
  },
  {
   "cell_type": "code",
   "execution_count": null,
   "metadata": {},
   "outputs": [],
   "source": [
    "adata = add_gene_annot_to_annData(adata, gene_annot_human)"
   ]
  },
  {
   "cell_type": "code",
   "execution_count": null,
   "metadata": {},
   "outputs": [],
   "source": [
    "adata.obs['age_number'] = adata.obs['age_number'].astype('category')"
   ]
  },
  {
   "cell_type": "code",
   "execution_count": null,
   "metadata": {},
   "outputs": [],
   "source": [
    "sc.pl.umap(adata, color='age_number')"
   ]
  },
  {
   "cell_type": "code",
   "execution_count": null,
   "metadata": {},
   "outputs": [],
   "source": [
    "adata.obs['batch']"
   ]
  },
  {
   "cell_type": "code",
   "execution_count": null,
   "metadata": {},
   "outputs": [],
   "source": [
    "sc.pl.umap(adata, color=['age', 'cell_type'])"
   ]
  },
  {
   "cell_type": "code",
   "execution_count": null,
   "metadata": {},
   "outputs": [],
   "source": [
    "adata.write('../data/annDatas_balanced/Raredon_lung_mixed_27_73.h5ad')"
   ]
  },
  {
   "cell_type": "markdown",
   "metadata": {},
   "source": [
    "# Travaglini (human lung)\n",
    "\n",
    "Better to download the whole dataset again and take all cells instead of just 7'500 per age cohort. Or at least the same cell types. "
   ]
  },
  {
   "cell_type": "code",
   "execution_count": null,
   "metadata": {},
   "outputs": [],
   "source": [
    "adata = sc.read('../data/HLCA/Travaglini_young_old.h5ad')"
   ]
  },
  {
   "cell_type": "code",
   "execution_count": null,
   "metadata": {},
   "outputs": [],
   "source": [
    "adata.X = csr_matrix(adata.X)"
   ]
  },
  {
   "cell_type": "code",
   "execution_count": null,
   "metadata": {},
   "outputs": [],
   "source": [
    "adata.obs['age_number'] = adata.obs['age']"
   ]
  },
  {
   "cell_type": "code",
   "execution_count": null,
   "metadata": {},
   "outputs": [],
   "source": [
    "age_dic =  {46: 'young', 75:'old'}\n",
    "adata.obs['age'] = [age_dic[age] for age in adata.obs['age_number']]"
   ]
  },
  {
   "cell_type": "code",
   "execution_count": null,
   "metadata": {},
   "outputs": [],
   "source": [
    "adata.obs['batch'] = adata.obs['patient']"
   ]
  },
  {
   "cell_type": "code",
   "execution_count": null,
   "metadata": {},
   "outputs": [],
   "source": [
    "adata = add_gene_annot_to_annData(adata, gene_annot_human)"
   ]
  },
  {
   "cell_type": "code",
   "execution_count": null,
   "metadata": {},
   "outputs": [],
   "source": [
    "adata.write('../data/annDatas_balanced/Travaglini_lung_male_46_75.h5ad')"
   ]
  },
  {
   "cell_type": "markdown",
   "metadata": {},
   "source": [
    "# Solé-Boldó (human skin)"
   ]
  },
  {
   "cell_type": "code",
   "execution_count": null,
   "metadata": {},
   "outputs": [],
   "source": [
    "adata = sc.read('../data/annDatas_processed/Sole_Boldo.h5ad')"
   ]
  },
  {
   "cell_type": "code",
   "execution_count": null,
   "metadata": {},
   "outputs": [],
   "source": [
    "adata.X = csr_matrix(adata.X)"
   ]
  },
  {
   "cell_type": "code",
   "execution_count": null,
   "metadata": {},
   "outputs": [],
   "source": [
    "adata.obs['age'] = [age.lower() for age in adata.obs['condition']]"
   ]
  },
  {
   "cell_type": "code",
   "execution_count": null,
   "metadata": {},
   "outputs": [],
   "source": [
    "adata = add_gene_annot_to_annData(adata, gene_annot_human)"
   ]
  },
  {
   "cell_type": "code",
   "execution_count": null,
   "metadata": {},
   "outputs": [],
   "source": [
    "adata.write('../data/annDatas_balanced/SoleBoldo_skin_male_26_62.h5ad')"
   ]
  },
  {
   "cell_type": "markdown",
   "metadata": {},
   "source": [
    "# Enge (human pancreas)"
   ]
  },
  {
   "cell_type": "code",
   "execution_count": null,
   "metadata": {},
   "outputs": [],
   "source": [
    "adata = sc.read('../data/annDatas_processed/Enge_annotated.h5ad')\n",
    "adata.X = csr_matrix(adata.X)"
   ]
  },
  {
   "cell_type": "code",
   "execution_count": null,
   "metadata": {},
   "outputs": [],
   "source": [
    "adata = adata[adata.obs['age'].isin([21, 22, 44, 54])]"
   ]
  },
  {
   "cell_type": "code",
   "execution_count": null,
   "metadata": {},
   "outputs": [],
   "source": [
    "sc.pl.umap(adata, color=['sex', 'donor'])"
   ]
  },
  {
   "cell_type": "code",
   "execution_count": null,
   "metadata": {},
   "outputs": [],
   "source": [
    "adata.obs['batch'] = adata.obs['donor']"
   ]
  },
  {
   "cell_type": "code",
   "execution_count": null,
   "metadata": {},
   "outputs": [],
   "source": [
    "age_dic = {21: 'young', 22: 'young', 44: 'old', 54:'old'}\n",
    "adata.obs['age_number'] = adata.obs['age']\n",
    "adata.obs['age'] = [age_dic[age] for age in adata.obs['age_number']]"
   ]
  },
  {
   "cell_type": "code",
   "execution_count": null,
   "metadata": {},
   "outputs": [],
   "source": [
    "adata = add_gene_annot_to_annData(adata, gene_annot_human)"
   ]
  },
  {
   "cell_type": "code",
   "execution_count": null,
   "metadata": {},
   "outputs": [],
   "source": [
    "adata.write('../data/annDatas_balanced/Enge_pancreas_mixed_22_49.h5ad')"
   ]
  },
  {
   "cell_type": "markdown",
   "metadata": {},
   "source": [
    "# Salzer (murine dermal fibroblasts)"
   ]
  },
  {
   "cell_type": "code",
   "execution_count": null,
   "metadata": {},
   "outputs": [],
   "source": [
    "adata = sc.read('../data/annDatas_processed/Salzer_preprocessed.h5ad')\n",
    "adata.X = csr_matrix(adata.X)"
   ]
  },
  {
   "cell_type": "code",
   "execution_count": null,
   "metadata": {},
   "outputs": [],
   "source": [
    "adata = adata[adata.obs['age'] != 'newborn']"
   ]
  },
  {
   "cell_type": "code",
   "execution_count": null,
   "metadata": {},
   "outputs": [],
   "source": [
    "adata = add_gene_annot_to_annData(adata, gene_annot_mouse)"
   ]
  },
  {
   "cell_type": "code",
   "execution_count": null,
   "metadata": {},
   "outputs": [],
   "source": [
    "adata.write('../data/annDatas_balanced/Salzer_fibroblasts_female_2_18.h5ad')"
   ]
  },
  {
   "cell_type": "markdown",
   "metadata": {},
   "source": [
    "# Kimmel (all tissues)"
   ]
  },
  {
   "cell_type": "code",
   "execution_count": null,
   "metadata": {
    "ExecuteTime": {
     "end_time": "2021-05-11T09:25:05.485451Z",
     "start_time": "2021-05-11T09:24:39.483593Z"
    },
    "scrolled": true,
    "tags": []
   },
   "outputs": [],
   "source": [
    "path2input = '../data/Kimmel/gsm/'\n",
    "\n",
    "tissue_dic = {'L': 'lung', 'K': 'kidney', 'S': 'spleen'}\n",
    "age_dic = {'O': 'old', 'Y': 'young'}\n",
    "\n",
    "fnames = os.listdir('../data/Kimmel/gsm')\n",
    "adata_list = []\n",
    "for fname in fnames:\n",
    "    adata_x = sc.read_10x_h5(f'{path2input}{fname}')\n",
    "    adata_x.var_names_make_unique()\n",
    "    adata_x.obs['tissue'] = tissue_dic[fname.split('_')[1][2]]\n",
    "    adata_x.obs['age'] = age_dic[fname.split('_')[1][0]]\n",
    "    adata_x.obs['sample'] = fname.split('_')[1]\n",
    "    adata_x.obs['batch'] = fname.split('_')[1][:2]\n",
    "    adata_list.append(adata_x)"
   ]
  },
  {
   "cell_type": "code",
   "execution_count": null,
   "metadata": {},
   "outputs": [],
   "source": [
    "adata = anndata.AnnData.concatenate(*adata_list)"
   ]
  },
  {
   "cell_type": "code",
   "execution_count": null,
   "metadata": {},
   "outputs": [],
   "source": [
    "adata_lung = adata[adata.obs['tissue']=='lung']\n",
    "adata_kidney = adata[adata.obs['tissue']=='kidney']\n",
    "adata_spleen = adata[adata.obs['tissue'] == 'spleen']"
   ]
  },
  {
   "cell_type": "markdown",
   "metadata": {},
   "source": [
    "## Kimmel lung"
   ]
  },
  {
   "cell_type": "code",
   "execution_count": null,
   "metadata": {},
   "outputs": [],
   "source": [
    "adata_lung = processing(adata_lung)"
   ]
  },
  {
   "cell_type": "code",
   "execution_count": null,
   "metadata": {},
   "outputs": [],
   "source": [
    "adata_lung = add_gene_annot_to_annData(adata_lung, gene_annot_mouse)"
   ]
  },
  {
   "cell_type": "code",
   "execution_count": null,
   "metadata": {},
   "outputs": [],
   "source": [
    "adata_lung.write('../data/annDatas_balanced/Kimmel_lung_male_7_21.h5ad')"
   ]
  },
  {
   "cell_type": "code",
   "execution_count": null,
   "metadata": {},
   "outputs": [],
   "source": [
    "sc.tl.leiden(adata_lung)"
   ]
  },
  {
   "cell_type": "code",
   "execution_count": null,
   "metadata": {},
   "outputs": [],
   "source": [
    "sc.pl.umap(adata_lung, color='leiden')"
   ]
  },
  {
   "cell_type": "code",
   "execution_count": null,
   "metadata": {
    "ExecuteTime": {
     "end_time": "2021-05-11T09:27:47.225456Z",
     "start_time": "2021-05-11T09:27:46.931929Z"
    }
   },
   "outputs": [],
   "source": [
    "# ref_marker = ct.read_markers_from_file('/home/amon/scoreCT/data/ref_marker.gmt')\n",
    "ref_marker = pd.read_csv('../output/tables/Angelidis_ct_markers.csv', index_col=0).iloc[0:300, :]"
   ]
  },
  {
   "cell_type": "code",
   "execution_count": null,
   "metadata": {
    "ExecuteTime": {
     "end_time": "2021-05-11T09:27:50.972739Z",
     "start_time": "2021-05-11T09:27:47.229381Z"
    }
   },
   "outputs": [],
   "source": [
    "marker_df = ct.wrangle_ranks_from_anndata(adata_lung)"
   ]
  },
  {
   "cell_type": "code",
   "execution_count": null,
   "metadata": {
    "ExecuteTime": {
     "end_time": "2021-05-11T09:28:06.807067Z",
     "start_time": "2021-05-11T09:27:50.975721Z"
    }
   },
   "outputs": [],
   "source": [
    "# Score cell types for each cluster \n",
    "# Let's set parameters first - K represents the number of genes included in the ranking\n",
    "# m represents the number of bins used to divide the top K genes.\n",
    "K = 300\n",
    "m = 5\n",
    "# Get the background genes - here, all the genes used to run the differential gene expression test\n",
    "background = adata.var_names.tolist()\n",
    "# Now run the function\n",
    "ct_pval, ct_score = ct.celltype_scores(nb_bins=m,\n",
    "                                        ranked_genes=marker_df,\n",
    "                                        K_top = K,\n",
    "                                        marker_ref=ref_marker,\n",
    "                                        background_genes=background)\n"
   ]
  },
  {
   "cell_type": "code",
   "execution_count": null,
   "metadata": {
    "ExecuteTime": {
     "end_time": "2021-05-11T09:28:06.812393Z",
     "start_time": "2021-05-11T09:28:06.809266Z"
    }
   },
   "outputs": [],
   "source": [
    "# ct.plot_pvalue(ct_pval, clusters=['0','1'], n_types=3)"
   ]
  },
  {
   "cell_type": "code",
   "execution_count": null,
   "metadata": {
    "ExecuteTime": {
     "end_time": "2021-05-11T09:28:11.455725Z",
     "start_time": "2021-05-11T09:28:06.814682Z"
    }
   },
   "outputs": [],
   "source": [
    "# Now assign clusters to cell types\n",
    "cluster_assign = adata.obs['leiden']\n",
    "celltype_assign = ct.assign_celltypes(cluster_assignment=cluster_assign, ct_pval_df=ct_pval, ct_score_df=ct_score, cutoff=0.1)\n",
    "# Add to anndata object\n",
    "adata.obs['cell_type'] = celltype_assign\n",
    "# Let's compare with the true assignment now! \n",
    "sc.pl.umap(adata, color=['leiden','cell_type'], title=['True','Predicted'], cmap='Set2')"
   ]
  },
  {
   "cell_type": "markdown",
   "metadata": {},
   "source": [
    "### Cell type annotation"
   ]
  },
  {
   "cell_type": "code",
   "execution_count": null,
   "metadata": {},
   "outputs": [],
   "source": [
    "adata_lung.obs"
   ]
  },
  {
   "cell_type": "code",
   "execution_count": null,
   "metadata": {},
   "outputs": [],
   "source": [
    "sc.pl.umap(adata_lung, color='leiden')"
   ]
  },
  {
   "cell_type": "code",
   "execution_count": null,
   "metadata": {},
   "outputs": [],
   "source": [
    "sc.tl.rank_genes_groups(adata_lung, groupby='leiden')"
   ]
  },
  {
   "cell_type": "code",
   "execution_count": null,
   "metadata": {},
   "outputs": [],
   "source": [
    "ref_marker = pd.read_csv('../output/tables/Angelidis_ct_markers.csv', index_col=0).iloc[0:300, :]\n",
    "marker_df = ct.wrangle_ranks_from_anndata(adata_lung)"
   ]
  },
  {
   "cell_type": "code",
   "execution_count": null,
   "metadata": {
    "scrolled": true,
    "tags": []
   },
   "outputs": [],
   "source": [
    "# Score cell types for each cluster \n",
    "# Let's set parameters first - K represents the number of genes included in the ranking\n",
    "# m represents the number of bins used to divide the top K genes.\n",
    "K = 300\n",
    "m = 5\n",
    "# Get the background genes - here, all the genes used to run the differential gene expression test\n",
    "background = adata.var_names.tolist()\n",
    "# Now run the function\n",
    "ct_pval, ct_score = ct.celltype_scores(nb_bins=m,\n",
    "                                        ranked_genes=marker_df,\n",
    "                                        K_top = K,\n",
    "                                        marker_ref=ref_marker,\n",
    "                                        background_genes=background)"
   ]
  },
  {
   "cell_type": "code",
   "execution_count": null,
   "metadata": {},
   "outputs": [],
   "source": [
    "# Now assign clusters to cell types\n",
    "cluster_assign = adata_lung.obs['leiden']\n",
    "celltype_assign = ct.assign_celltypes(cluster_assignment=cluster_assign, ct_pval_df=ct_pval, ct_score_df=ct_score, cutoff=0.1)\n",
    "# Add to anndata object\n",
    "adata_lung.obs['cell_type'] = celltype_assign\n",
    "# Let's compare with the true assignment now! \n",
    "sc.pl.umap(adata_lung, color=['leiden','cell_type'], title=['True','Predicted'], cmap='Set2')"
   ]
  },
  {
   "cell_type": "code",
   "execution_count": null,
   "metadata": {},
   "outputs": [],
   "source": [
    "adata_lung = add_gene_annot_to_annData(adata_lung, gene_annot_mouse)"
   ]
  },
  {
   "cell_type": "code",
   "execution_count": null,
   "metadata": {},
   "outputs": [],
   "source": [
    "adata_lung"
   ]
  },
  {
   "cell_type": "markdown",
   "metadata": {
    "tags": []
   },
   "source": [
    "## Kimmel spleen"
   ]
  },
  {
   "cell_type": "code",
   "execution_count": null,
   "metadata": {},
   "outputs": [],
   "source": [
    "adata_spleen = processing(adata_spleen)"
   ]
  },
  {
   "cell_type": "code",
   "execution_count": null,
   "metadata": {},
   "outputs": [],
   "source": [
    "adata_spleen = add_gene_annot_to_annData(adata_spleen, gene_annot_mouse)"
   ]
  },
  {
   "cell_type": "code",
   "execution_count": null,
   "metadata": {},
   "outputs": [],
   "source": [
    "adata_spleen.write('../data/annDatas_balanced/Kimmel_spleen_male_7_21.h5ad')"
   ]
  },
  {
   "cell_type": "code",
   "execution_count": null,
   "metadata": {},
   "outputs": [],
   "source": [
    "def scoreCT_pipeline(adata,ref_marker):\n",
    "    marker_df = ct.wrangle_ranks_from_anndata(adata)\n",
    "    # Score cell types for each cluster \n",
    "    # Let's set parameters first - K represents the number of genes included in the ranking\n",
    "    # m represents the number of bins used to divide the top K genes.\n",
    "    K = 300\n",
    "    m = 5\n",
    "    # Get the background genes - here, all the genes used to run the differential gene expression test\n",
    "    background = adata.var_names.tolist()\n",
    "    # Now run the function\n",
    "    ct_pval, ct_score = ct.celltype_scores(nb_bins=m,\n",
    "                                            ranked_genes=marker_df,\n",
    "                                            K_top = K,\n",
    "                                            marker_ref=ref_marker,\n",
    "                                            background_genes=background)\n",
    "    # Now assign clusters to cell types\n",
    "    cluster_assign = adata.obs['leiden']\n",
    "    celltype_assign = ct.assign_celltypes(cluster_assignment=cluster_assign, ct_pval_df=ct_pval, ct_score_df=ct_score, cutoff=0.1)\n",
    "    # Add to anndata object\n",
    "    adata.obs['cell_type'] = celltype_assign"
   ]
  },
  {
   "cell_type": "code",
   "execution_count": null,
   "metadata": {},
   "outputs": [],
   "source": [
    "adata_spleen = processing(adata_spleen)"
   ]
  },
  {
   "cell_type": "markdown",
   "metadata": {},
   "source": [
    "## Cell type annotation"
   ]
  },
  {
   "cell_type": "code",
   "execution_count": null,
   "metadata": {},
   "outputs": [],
   "source": [
    "# sc.tl.leiden(adata_spleen)"
   ]
  },
  {
   "cell_type": "code",
   "execution_count": null,
   "metadata": {},
   "outputs": [],
   "source": [
    "# sc.tl.rank_genes_groups(adata_spleen, groupby='leiden')"
   ]
  },
  {
   "cell_type": "code",
   "execution_count": null,
   "metadata": {},
   "outputs": [],
   "source": [
    "# ref_marker = pd.read_csv('../output/tables/TMS_spleen_ct_markers.csv', index_col=0).iloc[0:300, :]\n",
    "# marker_df = ct.wrangle_ranks_from_anndata(adata_spleen)"
   ]
  },
  {
   "cell_type": "code",
   "execution_count": null,
   "metadata": {
    "scrolled": true,
    "tags": []
   },
   "outputs": [],
   "source": [
    "# scoreCT_pipeline(adata_spleen, ref_marker)"
   ]
  },
  {
   "cell_type": "code",
   "execution_count": null,
   "metadata": {},
   "outputs": [],
   "source": [
    "# adata_spleen = add_gene_annot_to_annData(adata_spleen, gene_annot_mouse)"
   ]
  },
  {
   "cell_type": "code",
   "execution_count": null,
   "metadata": {},
   "outputs": [],
   "source": [
    "# sc.pl.umap(adata_spleen, color='cell_type')"
   ]
  },
  {
   "cell_type": "code",
   "execution_count": null,
   "metadata": {},
   "outputs": [],
   "source": [
    "# sc.pl.umap(adata_spleen, color='leiden')"
   ]
  },
  {
   "cell_type": "code",
   "execution_count": null,
   "metadata": {
    "ExecuteTime": {
     "end_time": "2021-05-11T09:25:13.921261Z",
     "start_time": "2021-05-11T09:25:05.605206Z"
    }
   },
   "outputs": [],
   "source": [
    "# adata_spleen.write('../data/annDatas_balanced/Kimmel_spleen.h5ad')"
   ]
  },
  {
   "cell_type": "markdown",
   "metadata": {
    "tags": []
   },
   "source": [
    "## Kimmel kidney"
   ]
  },
  {
   "cell_type": "code",
   "execution_count": null,
   "metadata": {},
   "outputs": [],
   "source": [
    "adata_kidney = processing(adata_kidney)"
   ]
  },
  {
   "cell_type": "code",
   "execution_count": null,
   "metadata": {},
   "outputs": [],
   "source": [
    "adata_kidney = add_gene_annot_to_annData(adata_kidney, gene_annot_mouse)"
   ]
  },
  {
   "cell_type": "code",
   "execution_count": null,
   "metadata": {},
   "outputs": [],
   "source": [
    "adata_kidney.write('../data/annDatas_balanced/Kimmel_kidney_male_7_21.h5ad')"
   ]
  },
  {
   "cell_type": "markdown",
   "metadata": {},
   "source": [
    "# UV-radiated skin"
   ]
  },
  {
   "cell_type": "code",
   "execution_count": null,
   "metadata": {},
   "outputs": [],
   "source": [
    "adata = sc.read('../data/annDatas_processed/UV_radiated_skin.h5ad')"
   ]
  },
  {
   "cell_type": "code",
   "execution_count": null,
   "metadata": {},
   "outputs": [],
   "source": [
    "adata = add_gene_annot_to_annData(adata, gene_annot_mouse)"
   ]
  },
  {
   "cell_type": "code",
   "execution_count": null,
   "metadata": {},
   "outputs": [],
   "source": [
    "adata.write('../data/annDatas_processed/UV_radiated_skin.h5ad')"
   ]
  },
  {
   "cell_type": "markdown",
   "metadata": {},
   "source": [
    "# Human trachea of smokers (Goldfarbmuren)"
   ]
  },
  {
   "cell_type": "code",
   "execution_count": null,
   "metadata": {},
   "outputs": [],
   "source": [
    "adata = sc.read('../data/annDatas_processed/Goldfarbmuren_annotated.h5ad')"
   ]
  },
  {
   "cell_type": "code",
   "execution_count": null,
   "metadata": {},
   "outputs": [],
   "source": [
    "adata = add_gene_annot_to_annData(adata, gene_annot_human)"
   ]
  },
  {
   "cell_type": "code",
   "execution_count": null,
   "metadata": {},
   "outputs": [],
   "source": [
    "adata.write('../data/annDatas_processed/Goldfarbmuren_annotated_with_gene_length.h5ad')"
   ]
  },
  {
   "cell_type": "markdown",
   "metadata": {},
   "source": [
    "# Global aging genes"
   ]
  },
  {
   "cell_type": "code",
   "execution_count": null,
   "metadata": {},
   "outputs": [],
   "source": [
    "gags = pd.read_csv('../data/TMS/global_aging_genes.tsv', sep='\\t', index_col=0)"
   ]
  },
  {
   "cell_type": "code",
   "execution_count": null,
   "metadata": {},
   "outputs": [],
   "source": [
    "gene_annot_mouse = pd.read_csv('../data/biomart/mouse_annotations_clean.csv', index_col=0)"
   ]
  },
  {
   "cell_type": "code",
   "execution_count": null,
   "metadata": {},
   "outputs": [],
   "source": [
    "gags.loc[:, 'gene_length'] = [gene_annot_mouse.loc[gene,'gene_length'] if gene in gene_annot_mouse.index else np.nan for gene in gags.index]"
   ]
  },
  {
   "cell_type": "code",
   "execution_count": null,
   "metadata": {},
   "outputs": [],
   "source": [
    "up_idx = gags[gags.prop_of_up_regulated_tissue_cell_types > 0.5].index\n",
    "down_idx = gags[gags.prop_of_up_regulated_tissue_cell_types < 0.5].index"
   ]
  },
  {
   "cell_type": "code",
   "execution_count": null,
   "metadata": {},
   "outputs": [],
   "source": [
    "gags.loc[up_idx, 'up/down'] = 'up'\n",
    "gags.loc[down_idx, 'up/down'] = 'down'"
   ]
  },
  {
   "cell_type": "code",
   "execution_count": null,
   "metadata": {},
   "outputs": [],
   "source": [
    "gags.to_csv('../output/tables/global_aging_genes.csv')"
   ]
  }
 ],
 "metadata": {
  "kernelspec": {
   "display_name": "Python 3",
   "language": "python",
   "name": "python3"
  },
  "language_info": {
   "codemirror_mode": {
    "name": "ipython",
    "version": 3
   },
   "file_extension": ".py",
   "mimetype": "text/x-python",
   "name": "python",
   "nbconvert_exporter": "python",
   "pygments_lexer": "ipython3",
   "version": "3.10.12"
  }
 },
 "nbformat": 4,
 "nbformat_minor": 4
}
